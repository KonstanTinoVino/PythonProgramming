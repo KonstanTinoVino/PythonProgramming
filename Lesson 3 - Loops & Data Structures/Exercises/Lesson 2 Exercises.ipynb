{
 "cells": [
  {
   "cell_type": "markdown",
   "id": "d383c672",
   "metadata": {},
   "source": [
    "## 1. Ingredients Estimator\n",
    "\n",
    "### Create a function that will estimate the needed ingredients for a certain portion N for a recipy. (Choose any recipy that creates a certain quantity of a product online)\n",
    "1. Create a function $Name that takes in a parameter which specifies the number of servings you want to get.\n",
    "2. Based on the parameter value and on the ingreadients list print out for each ingridient the cuantity needed to satisfy the desired serving.\n",
    "3. Make a second parameter which will take in a string as an alergen (ex. gluten, dairy, ..etc.) and based on this value change the affected ingreadient to be alergy tolerant(assume equal proportions when substituting) (ex swap eggs for banana, milk for almond milk etc.)."
   ]
  },
  {
   "cell_type": "code",
   "execution_count": null,
   "id": "4021d075",
   "metadata": {},
   "outputs": [],
   "source": []
  },
  {
   "cell_type": "markdown",
   "id": "66d19c85",
   "metadata": {},
   "source": [
    "## 2. Rejsekort Calculator\n",
    "\n",
    "Rejsekort estimation info: https://www.rejseplanen.dk/bin/help.exe/mn?L=vs_rkfc&tpl=prisblad#bilag3\n",
    "\n",
    "Create a function called my_rajsekort_calculator. The function will take into account 3 parameters. The number of days traveled, the average times per day traveled and the average price per single journey.\n",
    "1. Calculate how much it would cost a person to use rejsekort for this amount of journeys for the given price (assume no discount)\n",
    "2. Calculate how many discount points a person will accumulate for this amount of journeys. One discount point equals a journey multiplyed by 10\n",
    "3. Calculate the amount of points needed to reach maximum discount level (400 points)\n",
    "4. Calculate the number of journeys needed to reach the maximum discount level.\n",
    "5. Calculate the money they will need to reach the discount level.\n",
    "6. Add an extra variable called discount. Calculate all previous values after applying the discount percentage supplied."
   ]
  },
  {
   "cell_type": "code",
   "execution_count": null,
   "id": "86d745dd",
   "metadata": {},
   "outputs": [],
   "source": []
  },
  {
   "cell_type": "markdown",
   "id": "c3ace734",
   "metadata": {},
   "source": [
    "## 3. Circle Area Calculator\n",
    "1. Write a Python program which accepts the radius of a circle from the user and compute the area.\n",
    "    - Sample Output : r = 1.1 => Area = 3.8013271108436504"
   ]
  },
  {
   "cell_type": "code",
   "execution_count": null,
   "id": "00256400",
   "metadata": {},
   "outputs": [],
   "source": []
  },
  {
   "cell_type": "markdown",
   "id": "45ccabdd",
   "metadata": {},
   "source": [
    "## 4. Continuous Product Summation\n",
    "1. Write a Python program that accepts an integer (n) and computes the value of n+nn+nnn. Go to the editor\n"
   ]
  },
  {
   "cell_type": "code",
   "execution_count": null,
   "id": "00e7a4f5",
   "metadata": {},
   "outputs": [],
   "source": []
  },
  {
   "cell_type": "markdown",
   "id": "3c1bf3b7",
   "metadata": {},
   "source": [
    "## 5. Print string N number of times\n",
    "1. Make a function to print a given string N number of times. Where the string and N are passed through user input."
   ]
  },
  {
   "cell_type": "code",
   "execution_count": null,
   "id": "7929a907",
   "metadata": {},
   "outputs": [],
   "source": []
  },
  {
   "cell_type": "markdown",
   "id": "fe59690d",
   "metadata": {},
   "source": [
    "## 6. Greet\n",
    "1. Write a program that asks the user for their name and greets them with their name.\n",
    "2. Modify the previous program such that only the users Alice and Bob are greeted with their names."
   ]
  },
  {
   "cell_type": "code",
   "execution_count": null,
   "id": "7d0295c5",
   "metadata": {},
   "outputs": [],
   "source": []
  },
  {
   "cell_type": "markdown",
   "id": "48c55521",
   "metadata": {},
   "source": [
    "## 7. Multiplication Table\n",
    "\n",
    "1. Write a function that prints a multiplication table for numbers up to 12. The function should accept an integer as a parameter."
   ]
  },
  {
   "cell_type": "code",
   "execution_count": null,
   "id": "4dfae85a",
   "metadata": {},
   "outputs": [],
   "source": []
  },
  {
   "cell_type": "markdown",
   "id": "3f249831",
   "metadata": {},
   "source": [
    "## 8. Check if even\n",
    "1. Write a function to return a string saying wether the number is \"odd\" or \"even\"\n",
    "    - Hint: Use modulo"
   ]
  },
  {
   "cell_type": "code",
   "execution_count": null,
   "id": "90959ed3",
   "metadata": {},
   "outputs": [],
   "source": []
  },
  {
   "cell_type": "markdown",
   "id": "fcbef2dc",
   "metadata": {},
   "source": [
    "## Write a Python program to convert temperatures to and from celsius, fahrenheit.\n",
    "1. Formula : c/5 = f-32/9 where c = temperature in celsius and f = temperature in fahrenheit \n",
    "    - Expected Output : \n",
    "        - 60°C is 140 in Fahrenheit\n",
    "        - 45°F is 7 in Celsius "
   ]
  },
  {
   "cell_type": "code",
   "execution_count": null,
   "id": "c8099217",
   "metadata": {},
   "outputs": [],
   "source": []
  },
  {
   "cell_type": "markdown",
   "id": "c98d539f",
   "metadata": {},
   "source": [
    "# If Loops and Lists has been reached"
   ]
  },
  {
   "cell_type": "markdown",
   "id": "ec9a45d3",
   "metadata": {},
   "source": [
    "## 9. Modify exercise 7 to use a for loop"
   ]
  },
  {
   "cell_type": "code",
   "execution_count": null,
   "id": "310ddb2e",
   "metadata": {},
   "outputs": [],
   "source": []
  },
  {
   "cell_type": "markdown",
   "id": "34f9b3fb",
   "metadata": {},
   "source": [
    "## 10 Write function that reverses a list, preferably in place. "
   ]
  },
  {
   "cell_type": "code",
   "execution_count": null,
   "id": "a9536231",
   "metadata": {},
   "outputs": [],
   "source": []
  },
  {
   "cell_type": "markdown",
   "id": "e03695c5",
   "metadata": {},
   "source": [
    "## 11 Write a function that checks whether an element occurs in a list."
   ]
  },
  {
   "cell_type": "code",
   "execution_count": null,
   "id": "08c1ca43",
   "metadata": {},
   "outputs": [],
   "source": []
  },
  {
   "cell_type": "markdown",
   "id": "10c981b0",
   "metadata": {},
   "source": [
    "## 12. Write a function that returns the elements on odd positions in a list."
   ]
  },
  {
   "cell_type": "code",
   "execution_count": null,
   "id": "1d34d32d",
   "metadata": {},
   "outputs": [],
   "source": []
  },
  {
   "cell_type": "markdown",
   "id": "8fe5f3a7",
   "metadata": {},
   "source": [
    "## 13. Write a function that tests whether a string is a palindrome.\n",
    "- Hint: you can use slice on Strings as well."
   ]
  },
  {
   "cell_type": "code",
   "execution_count": null,
   "id": "caa38bd5",
   "metadata": {},
   "outputs": [],
   "source": []
  },
  {
   "cell_type": "markdown",
   "id": "ef6db8b0",
   "metadata": {},
   "source": [
    "## 14. Write a function that concatenates two lists. [a,b,c], [1,2,3] → [a,b,c,1,2,3]"
   ]
  },
  {
   "cell_type": "code",
   "execution_count": null,
   "id": "15493a9f",
   "metadata": {},
   "outputs": [],
   "source": []
  },
  {
   "cell_type": "markdown",
   "id": "eef4ae8b",
   "metadata": {},
   "source": [
    "## 15. Write a function that rotates a list by k elements. For example [1,2,3,4,5,6] rotated by two becomes [3,4,5,6,1,2]. Try solving this without creating a copy of the list. How many swap or move operations do you need?"
   ]
  },
  {
   "cell_type": "code",
   "execution_count": null,
   "id": "b0a68ddb",
   "metadata": {},
   "outputs": [],
   "source": []
  },
  {
   "cell_type": "markdown",
   "id": "dd028a60",
   "metadata": {},
   "source": [
    "## 16 Write a function that takes a list of strings an prints them, one per line, in a rectangular frame.\n",
    "1. For example the list [\"Hello\", \"World\", \"in\", \"a\", \"frame\"] gets printed as:\n",
    "*********\n",
    "* Hello *\n",
    "* World *\n",
    "* in    *\n",
    "* a     *\n",
    "* frame *\n",
    "*********"
   ]
  },
  {
   "cell_type": "markdown",
   "id": "808ab815",
   "metadata": {},
   "source": [
    "## 17 Write a for loop so that every item in the list is printed."
   ]
  },
  {
   "cell_type": "code",
   "execution_count": null,
   "id": "6d7e9f93",
   "metadata": {},
   "outputs": [],
   "source": [
    "lst=[\"koala\", \"cat\", \"fox\", \"panda\", \"chipmunk\", \"sloth\", \"penguin\", \"dolphin\"]"
   ]
  },
  {
   "cell_type": "markdown",
   "id": "1f165d7d",
   "metadata": {},
   "source": [
    "## 18 Write a Python program to guess a number between 1 to 9.\n",
    "1. Hint : User is prompted to enter a guess. If the user guesses wrong then the prompt appears again until the guess is correct, on successful guess, user will get a \"Well guessed!\" message, and the program will exit."
   ]
  },
  {
   "cell_type": "code",
   "execution_count": null,
   "id": "33d81615",
   "metadata": {},
   "outputs": [],
   "source": []
  },
  {
   "cell_type": "markdown",
   "id": "58622b61",
   "metadata": {},
   "source": [
    "## 19. Write a Python program to construct the following pattern, using a nested for loop.\n",
    "\n",
    "$ \n",
    "$ $ \n",
    "$ $ $ \n",
    "$ $ $ $ \n",
    "$ $ $ $ $ \n",
    "$ $ $ $ \n",
    "$ $ $ \n",
    "$ $\n",
    "$"
   ]
  },
  {
   "cell_type": "code",
   "execution_count": null,
   "id": "6244ef2d",
   "metadata": {},
   "outputs": [],
   "source": []
  },
  {
   "cell_type": "markdown",
   "id": "0fe2771e",
   "metadata": {},
   "source": [
    "## 20. Write a Python program to get the Fibonacci series between 0 to 50.\n",
    "1. Note : The Fibonacci Sequence is the series of numbers :\n",
    "    - 0, 1, 1, 2, 3, 5, 8, 13, 21, ....\n",
    "2. Every next number is found by adding up the two numbers before it.\n",
    "- Expected Output : 1 1 2 3 5 8 13 21 34"
   ]
  },
  {
   "cell_type": "code",
   "execution_count": null,
   "id": "9a9b33c5",
   "metadata": {},
   "outputs": [],
   "source": []
  },
  {
   "cell_type": "markdown",
   "id": "81b5ee66",
   "metadata": {},
   "source": [
    "## 21. Write a Python program to check the validity of password input by users\n",
    "- At least 1 letter between [a-z] and 1 letter between [A-Z]. \n",
    "- At least 1 number between [0-9].\n",
    "- At least 1 character from [$#@].\n",
    "- Minimum length 6 characters.\n",
    "- Maximum length 16 characters."
   ]
  },
  {
   "cell_type": "code",
   "execution_count": null,
   "id": "e7f2b86f",
   "metadata": {},
   "outputs": [],
   "source": []
  }
 ],
 "metadata": {
  "kernelspec": {
   "display_name": "Python 3 (ipykernel)",
   "language": "python",
   "name": "python3"
  },
  "language_info": {
   "codemirror_mode": {
    "name": "ipython",
    "version": 3
   },
   "file_extension": ".py",
   "mimetype": "text/x-python",
   "name": "python",
   "nbconvert_exporter": "python",
   "pygments_lexer": "ipython3",
   "version": "3.10.4"
  }
 },
 "nbformat": 4,
 "nbformat_minor": 5
}
