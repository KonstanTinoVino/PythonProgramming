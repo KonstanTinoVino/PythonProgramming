{
 "cells": [
  {
   "cell_type": "markdown",
   "id": "66d19c85",
   "metadata": {},
   "source": [
    "## 1. Rejsekort Calculator\n",
    "\n",
    "Rejsekort estimation info: https://www.rejseplanen.dk/bin/help.exe/mn?L=vs_rkfc&tpl=prisblad#bilag3\n",
    "\n",
    "Create a function called my_rajsekort_calculator. The function will take into account 3 parameters. The number of days traveled, the average times per day traveled and the average price per single journey.\n",
    "1. Calculate how much it would cost a person to use rejsekort for this amount of journeys for the given price (assume no discount)\n",
    "2. Calculate how many discount points a person will accumulate for this amount of journeys. One discount point equals a journey multiplyed by 10\n",
    "3. Calculate the amount of points needed to reach maximum discount level (400 points)\n",
    "4. Calculate the number of journeys needed to reach the maximum discount level.\n",
    "5. Calculate the money they will need to reach the discount level.\n",
    "6. Add an extra variable called discount. Calculate all previous values after applying the discount percentage supplied."
   ]
  },
  {
   "cell_type": "code",
   "execution_count": null,
   "id": "86d745dd",
   "metadata": {},
   "outputs": [],
   "source": []
  },
  {
   "cell_type": "markdown",
   "id": "c3ace734",
   "metadata": {},
   "source": [
    "## 2. Circle Area Calculator\n",
    "1. Write a Python program which accepts the radius of a circle from the user and compute the area.\n",
    "    - Sample Output : r = 1.1 => Area = 3.8013271108436504"
   ]
  },
  {
   "cell_type": "code",
   "execution_count": null,
   "id": "00256400",
   "metadata": {},
   "outputs": [],
   "source": []
  },
  {
   "cell_type": "markdown",
   "id": "45ccabdd",
   "metadata": {},
   "source": [
    "## 3. Continuous Product Summation\n",
    "1. Write a Python program that accepts an integer (n) and computes the value of n+nn+nnn. Go to the editor\n"
   ]
  },
  {
   "cell_type": "code",
   "execution_count": null,
   "id": "00e7a4f5",
   "metadata": {},
   "outputs": [],
   "source": []
  },
  {
   "cell_type": "markdown",
   "id": "3c1bf3b7",
   "metadata": {},
   "source": [
    "## 4. Print string N number of times\n",
    "1. Make a function to print a given string N number of times. Where the string and N are passed through user input."
   ]
  },
  {
   "cell_type": "code",
   "execution_count": null,
   "id": "7929a907",
   "metadata": {},
   "outputs": [],
   "source": []
  },
  {
   "cell_type": "markdown",
   "id": "fe59690d",
   "metadata": {},
   "source": [
    "## 5. Greet\n",
    "1. Write a program that asks the user for their name and greets them with their name.\n",
    "2. Modify the previous program such that only the users Alice and Bob are greeted with their names."
   ]
  },
  {
   "cell_type": "code",
   "execution_count": null,
   "id": "7d0295c5",
   "metadata": {},
   "outputs": [],
   "source": []
  },
  {
   "cell_type": "markdown",
   "id": "48c55521",
   "metadata": {},
   "source": [
    "## 6. Multiplication Table\n",
    "\n",
    "1. Write a function that prints a multiplication table for numbers up to 12. The function should accept an integer as a parameter."
   ]
  },
  {
   "cell_type": "code",
   "execution_count": null,
   "id": "4dfae85a",
   "metadata": {},
   "outputs": [],
   "source": []
  },
  {
   "cell_type": "markdown",
   "id": "3f249831",
   "metadata": {},
   "source": [
    "## 7. Check if even\n",
    "1. Write a function to return a string saying wether the number is \"odd\" or \"even\"\n",
    "    - Hint: Use modulo"
   ]
  },
  {
   "cell_type": "code",
   "execution_count": null,
   "id": "90959ed3",
   "metadata": {},
   "outputs": [],
   "source": []
  },
  {
   "cell_type": "markdown",
   "id": "fcbef2dc",
   "metadata": {},
   "source": [
    "## 8. Write a Python program to convert temperatures to and from celsius, fahrenheit.\n",
    "1. Formula : c/5 = f-32/9 where c = temperature in celsius and f = temperature in fahrenheit \n",
    "    - Expected Output : \n",
    "        - 60°C is 140 in Fahrenheit\n",
    "        - 45°F is 7 in Celsius "
   ]
  },
  {
   "cell_type": "code",
   "execution_count": null,
   "id": "c8099217",
   "metadata": {},
   "outputs": [],
   "source": []
  }
 ],
 "metadata": {
  "kernelspec": {
   "display_name": "Python 3 (ipykernel)",
   "language": "python",
   "name": "python3"
  },
  "language_info": {
   "codemirror_mode": {
    "name": "ipython",
    "version": 3
   },
   "file_extension": ".py",
   "mimetype": "text/x-python",
   "name": "python",
   "nbconvert_exporter": "python",
   "pygments_lexer": "ipython3",
   "version": "3.11.0"
  }
 },
 "nbformat": 4,
 "nbformat_minor": 5
}
