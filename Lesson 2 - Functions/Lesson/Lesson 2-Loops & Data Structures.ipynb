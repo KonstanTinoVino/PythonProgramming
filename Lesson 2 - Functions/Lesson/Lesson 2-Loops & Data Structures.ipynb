{
 "cells": [
  {
   "cell_type": "markdown",
   "id": "0f5e85b9",
   "metadata": {},
   "source": [
    "## Jupyter Notebook Basics\n",
    "https://jupyter-notebook.readthedocs.io/en/stable/examples/Notebook/Notebook%20Basics.html\n",
    "\n",
    "## Jupyter Notebook Markdown Guide\n",
    "https://www.datacamp.com/tutorial/markdown-in-jupyter-notebook\n",
    "\n",
    "## Python Operatorts & Expressions Overview\n",
    "https://realpython.com/python-operators-expressions/\n",
    "\n",
    "## MAC/IOS Command Line Use Overview\n",
    "https://www.macworld.com/article/221277/command-line-navigating-files-folders-mac-terminal.html\n"
   ]
  },
  {
   "cell_type": "markdown",
   "id": "96a587c9",
   "metadata": {},
   "source": [
    "# 1. Functions\n",
    "Functions serve the purpose of re-usable logic blocks. It is a set of operations that can be called through the function multiple times at multiple locations in the code to execute the exact same set of operations. Thus it saves time to call the function again in one line compared to writing the logical operations over again.\n",
    "- **NOTE: Almost always it is best practice to initialize functions at the very beggining of your code structure.**"
   ]
  },
  {
   "cell_type": "markdown",
   "id": "7294fe3e",
   "metadata": {},
   "source": [
    "### 1.1. Functions are defined using the **def** keyword.\n",
    "    - The name of the function can be whatever you like as long as it stats with a letter and only contains alpha-numeric charecters and \"_\".\n",
    "    - The function must end with an **()** (if no parameters were given) and **:**"
   ]
  },
  {
   "cell_type": "code",
   "execution_count": null,
   "id": "e3c379dc",
   "metadata": {},
   "outputs": [],
   "source": [
    "def my_function():\n",
    "    pass # <- The pass keyword means 'do nothing.'"
   ]
  },
  {
   "cell_type": "markdown",
   "id": "1f8f53ac",
   "metadata": {},
   "source": [
    "### 1.2. There are numerous **built-in** python functions, some of which we have already looked at:\n",
    "    - print() -> Prints out a value.\n",
    "    - input() -> Receives user input from the keyboard.\n",
    "### 1.2.1. Other usefull functions are:\n",
    "    - len() -> returns the length of an object or array. Ex: the string \"Hi\" has a lentgth of len(\"Hi\") -> 1\n",
    "    - pow() -> equivalent to using the ** operator. Ex: pow(2,3) = 2**3 = 8\n",
    "    - list() -> creates a list\n",
    "    - set() -> creates a set.\n",
    "    - type() -> checks the type of the object passed. Ex type(\"Hello\") -> str or type(4) -> int\n",
    "    - range() -> returns an immutable sequence of numbers within a specified range. EX range(4) returns a sequence from 0 to 4"
   ]
  },
  {
   "cell_type": "markdown",
   "id": "e29ced94",
   "metadata": {},
   "source": [
    "### 1.3. Functions need to be **defined** before they can be **called.**. Example "
   ]
  },
  {
   "cell_type": "code",
   "execution_count": null,
   "id": "89140815",
   "metadata": {},
   "outputs": [],
   "source": [
    "def print_hello(): # <- Defining a function to print out \"Hello\"\n",
    "    print(\"Hello\")\n",
    "    \n",
    "print_hello() # <- Calling a function after definitin to actually print out a \"Hello\" on the scree"
   ]
  },
  {
   "cell_type": "markdown",
   "id": "cd34a823",
   "metadata": {},
   "source": [
    "### 1.4. Functions can take in **parameters** which can be used to pass outside-of-the-function information to the function so that it can perform some operation on them within the function. Ex:"
   ]
  },
  {
   "cell_type": "code",
   "execution_count": null,
   "id": "6b04aa19",
   "metadata": {},
   "outputs": [],
   "source": [
    "def print_value(value):\n",
    "    print(value)\n",
    "    \n",
    "print_value(4)\n",
    "print_value(\"Hello\")\n",
    "print_value(value=\"Hello again\") # <- The parameter name can also be specified for more accuracy"
   ]
  },
  {
   "cell_type": "markdown",
   "id": "bdf36784",
   "metadata": {},
   "source": [
    "### 1.5. Functions can have as many parameters as defined."
   ]
  },
  {
   "cell_type": "code",
   "execution_count": null,
   "id": "7eac510d",
   "metadata": {},
   "outputs": [],
   "source": [
    "def summation(a,b):\n",
    "    print(a+b)\n",
    "\n",
    "summation(2,3)"
   ]
  },
  {
   "cell_type": "markdown",
   "id": "9cc260f0",
   "metadata": {},
   "source": [
    "### 1.6. Functions can be used to return values. This is achieved through the **return** keyword."
   ]
  },
  {
   "cell_type": "code",
   "execution_count": null,
   "id": "c342116e",
   "metadata": {},
   "outputs": [],
   "source": [
    "def summation_2(a,b):\n",
    "    return a + b\n",
    "\n",
    "my_variable = summation_2(2,3)\n",
    "print(my_variable)"
   ]
  },
  {
   "cell_type": "markdown",
   "id": "ddd79557",
   "metadata": {},
   "source": [
    "### 1.7. Functions can return multiple values. The values returned need to be separated by a (,) comma. The order of values returned is the one defined within the function"
   ]
  },
  {
   "cell_type": "code",
   "execution_count": null,
   "id": "003a6f58",
   "metadata": {},
   "outputs": [],
   "source": [
    "def summation_2(a,b):\n",
    "    the_sum = a + b\n",
    "    return  a, b, the_sum\n",
    "\n",
    "the_sum, a, b = summation_2(2,3)\n",
    "print(the_sum)\n",
    "print(a)\n",
    "print(b)"
   ]
  },
  {
   "cell_type": "markdown",
   "id": "e36c949d",
   "metadata": {},
   "source": [
    "### 1.8. Variables not defined within the function or passed as a parameter can be used within the function however, normally this is **bad practice**"
   ]
  },
  {
   "cell_type": "code",
   "execution_count": null,
   "id": "1318b537",
   "metadata": {},
   "outputs": [],
   "source": [
    "another_variable = 5\n",
    "\n",
    "def summation_3(a, b):\n",
    "    return a + b + another_variable\n",
    "\n",
    "summation_3(1,3)"
   ]
  },
  {
   "cell_type": "markdown",
   "id": "34ddbf75",
   "metadata": {},
   "source": [
    "### 1.9. Functions parameters can have default values. That is, values which will be automatically used if none other were passed."
   ]
  },
  {
   "cell_type": "code",
   "execution_count": null,
   "id": "3b65c903",
   "metadata": {},
   "outputs": [],
   "source": [
    "def print_something(something=\"Hello World\"):\n",
    "    print(something)\n",
    "\n",
    "print_something(\"Hi There\") # <- Something is specified.\n",
    "\n",
    "print_something() # <- nothing is passed therefore the function takes the default \"Hello World\""
   ]
  },
  {
   "cell_type": "markdown",
   "id": "cbe13be3",
   "metadata": {},
   "source": [
    "### 1.10. Functions can also be **type cast**. That is the parameter's type can be required by the function."
   ]
  },
  {
   "cell_type": "code",
   "execution_count": null,
   "id": "738bca74",
   "metadata": {},
   "outputs": [],
   "source": [
    "def print_only_strings(value: str):\n",
    "    print(value)\n",
    "\n",
    "def print_only_ints(value: int):\n",
    "    print(value)\n",
    "    \n",
    "print_only_ints(value=1)\n",
    "print_only_strings(\"Hello\")"
   ]
  }
 ],
 "metadata": {
  "kernelspec": {
   "display_name": "Python 3 (ipykernel)",
   "language": "python",
   "name": "python3"
  },
  "language_info": {
   "codemirror_mode": {
    "name": "ipython",
    "version": 3
   },
   "file_extension": ".py",
   "mimetype": "text/x-python",
   "name": "python",
   "nbconvert_exporter": "python",
   "pygments_lexer": "ipython3",
   "version": "3.11.0"
  }
 },
 "nbformat": 4,
 "nbformat_minor": 5
}
