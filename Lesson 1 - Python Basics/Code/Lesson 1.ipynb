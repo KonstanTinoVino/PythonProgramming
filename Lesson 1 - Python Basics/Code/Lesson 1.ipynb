{
 "cells": [
  {
   "cell_type": "markdown",
   "id": "e26bd98c",
   "metadata": {},
   "source": [
    "# Header 1\n",
    "## Smaller Hea\n",
    "\n",
    "\n",
    "adsasdadadsdasdasd\n",
    "\n",
    "- List\n",
    "    - sublist\n",
    "- List 2\n",
    "\n",
    "\n",
    "1. asddas\n",
    "2. sadasd"
   ]
  },
  {
   "cell_type": "markdown",
   "id": "01a1bb77",
   "metadata": {},
   "source": [
    "# Header 1\n",
    "## Header 2\n",
    "### Header 3\n",
    "\n",
    "This is text\n",
    "\n",
    "## This is how you initialize a dash list\n",
    "- This is a element of a list\n",
    "\n",
    "## This is how you initialize a numbered list\n",
    "\n",
    "1. This is a numbered list\n",
    "1. This is a numbered list 2\n",
    "\n",
    "**This is bold**"
   ]
  },
  {
   "cell_type": "code",
   "execution_count": null,
   "id": "e3868191",
   "metadata": {},
   "outputs": [],
   "source": [
    "# adasfafs "
   ]
  },
  {
   "cell_type": "markdown",
   "id": "1db208ef",
   "metadata": {},
   "source": [
    "## This is a comment in Python"
   ]
  },
  {
   "cell_type": "code",
   "execution_count": null,
   "id": "839d870d",
   "metadata": {},
   "outputs": [],
   "source": [
    "# This a comment in python"
   ]
  },
  {
   "cell_type": "markdown",
   "id": "7a6b7adb",
   "metadata": {},
   "source": [
    "# 1. Basic Data Types"
   ]
  },
  {
   "cell_type": "code",
   "execution_count": null,
   "id": "2d5f704f",
   "metadata": {},
   "outputs": [],
   "source": [
    "1 # -> Integer\n",
    "2.5 # -> Decimal\n",
    "\"String\" # -> String\n",
    "\"sdasfaf sda sdad asd adaw \"\n",
    "True # -> Boolean\n",
    "False"
   ]
  },
  {
   "cell_type": "code",
   "execution_count": null,
   "id": "d5aa5679",
   "metadata": {},
   "outputs": [],
   "source": [
    "17 # This is an integer\n",
    "17.5 # This is a double/flotation point\n",
    "\"ThiS is A StRing\" # This is a String\n",
    "'This is a String as well' # This is a String as well\n",
    "True # This is a boolean\n",
    "False # This is also a boolean"
   ]
  },
  {
   "cell_type": "markdown",
   "id": "3b0e6420",
   "metadata": {},
   "source": [
    "# 2 Basic Operations"
   ]
  },
  {
   "cell_type": "code",
   "execution_count": 1,
   "id": "f53b08ef",
   "metadata": {
    "scrolled": true
   },
   "outputs": [
    {
     "data": {
      "text/plain": [
       "2"
      ]
     },
     "execution_count": 1,
     "metadata": {},
     "output_type": "execute_result"
    }
   ],
   "source": [
    "1+1"
   ]
  },
  {
   "cell_type": "code",
   "execution_count": 2,
   "id": "6af38239",
   "metadata": {},
   "outputs": [
    {
     "data": {
      "text/plain": [
       "0"
      ]
     },
     "execution_count": 2,
     "metadata": {},
     "output_type": "execute_result"
    }
   ],
   "source": [
    "1-1"
   ]
  },
  {
   "cell_type": "code",
   "execution_count": 3,
   "id": "f7d3cc9f",
   "metadata": {},
   "outputs": [
    {
     "data": {
      "text/plain": [
       "4"
      ]
     },
     "execution_count": 3,
     "metadata": {},
     "output_type": "execute_result"
    }
   ],
   "source": [
    "2*2"
   ]
  },
  {
   "cell_type": "code",
   "execution_count": 4,
   "id": "c24d3ab8",
   "metadata": {},
   "outputs": [
    {
     "data": {
      "text/plain": [
       "2.0"
      ]
     },
     "execution_count": 4,
     "metadata": {},
     "output_type": "execute_result"
    }
   ],
   "source": [
    "4/2"
   ]
  },
  {
   "cell_type": "code",
   "execution_count": 5,
   "id": "04bc22a1",
   "metadata": {},
   "outputs": [
    {
     "data": {
      "text/plain": [
       "8"
      ]
     },
     "execution_count": 5,
     "metadata": {},
     "output_type": "execute_result"
    }
   ],
   "source": [
    "2**3"
   ]
  },
  {
   "cell_type": "code",
   "execution_count": null,
   "id": "800a846c",
   "metadata": {},
   "outputs": [],
   "source": []
  },
  {
   "cell_type": "code",
   "execution_count": null,
   "id": "4fa1525a",
   "metadata": {},
   "outputs": [],
   "source": [
    "3 + 4 # Example of Summation"
   ]
  },
  {
   "cell_type": "code",
   "execution_count": null,
   "id": "6ab700b2",
   "metadata": {},
   "outputs": [],
   "source": [
    "4 / 4 # Example of Division\n",
    "3 / 4 # This is also division"
   ]
  },
  {
   "cell_type": "code",
   "execution_count": null,
   "id": "805b5cbe",
   "metadata": {},
   "outputs": [],
   "source": [
    "3 * 4 # This is multiplication"
   ]
  },
  {
   "cell_type": "code",
   "execution_count": null,
   "id": "6a51e59f",
   "metadata": {},
   "outputs": [],
   "source": [
    "2**3 # Exponentiation/ to do power of"
   ]
  },
  {
   "cell_type": "code",
   "execution_count": 6,
   "id": "4733dba3",
   "metadata": {},
   "outputs": [
    {
     "data": {
      "text/plain": [
       "10"
      ]
     },
     "execution_count": 6,
     "metadata": {},
     "output_type": "execute_result"
    }
   ],
   "source": [
    "1000 % 22 # Example of modulos"
   ]
  },
  {
   "cell_type": "code",
   "execution_count": null,
   "id": "4faa850e",
   "metadata": {
    "scrolled": true
   },
   "outputs": [],
   "source": [
    "11 // 2 # Floor division"
   ]
  },
  {
   "cell_type": "code",
   "execution_count": 7,
   "id": "20981bc4",
   "metadata": {},
   "outputs": [
    {
     "data": {
      "text/plain": [
       "'AB'"
      ]
     },
     "execution_count": 7,
     "metadata": {},
     "output_type": "execute_result"
    }
   ],
   "source": [
    "\"A\" + \"B\""
   ]
  },
  {
   "cell_type": "code",
   "execution_count": null,
   "id": "dc6e7f36",
   "metadata": {},
   "outputs": [],
   "source": []
  },
  {
   "cell_type": "code",
   "execution_count": null,
   "id": "3bb3762f",
   "metadata": {},
   "outputs": [],
   "source": [
    "\"A\" * 5"
   ]
  },
  {
   "cell_type": "markdown",
   "id": "d32a3f6e",
   "metadata": {},
   "source": [
    "# 3 These are variables\n",
    "\n",
    "## Variables must start with letters abd must be alphanumerica. But _ are allowed"
   ]
  },
  {
   "cell_type": "code",
   "execution_count": null,
   "id": "c18b1f55",
   "metadata": {},
   "outputs": [],
   "source": [
    "# This how you initialize a variable\n",
    "variable = 1"
   ]
  },
  {
   "cell_type": "code",
   "execution_count": null,
   "id": "7e2bcc88",
   "metadata": {},
   "outputs": [],
   "source": [
    "# This is how you call a variable\n",
    "variable"
   ]
  },
  {
   "cell_type": "code",
   "execution_count": null,
   "id": "8a4a2af6",
   "metadata": {},
   "outputs": [],
   "source": [
    "# Using _ to split variable\n",
    "new_variable = 2\n",
    "new_variable"
   ]
  },
  {
   "cell_type": "code",
   "execution_count": null,
   "id": "91ce6a6b",
   "metadata": {},
   "outputs": [],
   "source": [
    "# Reasign Variable\n",
    "variable = 2\n",
    "variable"
   ]
  },
  {
   "cell_type": "code",
   "execution_count": null,
   "id": "8e71da51",
   "metadata": {},
   "outputs": [],
   "source": [
    "# add two previously assigned variables\n",
    "third_variable = variable + new_variable\n",
    "third_variable"
   ]
  },
  {
   "cell_type": "code",
   "execution_count": null,
   "id": "2ea0f048",
   "metadata": {},
   "outputs": [],
   "source": [
    "# Changing data type of variable\n",
    "number_variable = 4\n",
    "string_variable = \"Hello\"\n",
    "number_variable = string_variable"
   ]
  },
  {
   "cell_type": "code",
   "execution_count": null,
   "id": "e3d89b93",
   "metadata": {},
   "outputs": [],
   "source": [
    "number_variable = 4\n",
    "sum_variable = number_variable + string_variable\n",
    "sum_variable"
   ]
  },
  {
   "cell_type": "markdown",
   "id": "dc316078",
   "metadata": {},
   "source": [
    "# Comparison/Logical Operators"
   ]
  },
  {
   "cell_type": "code",
   "execution_count": 8,
   "id": "0dcbfb24",
   "metadata": {},
   "outputs": [
    {
     "data": {
      "text/plain": [
       "True"
      ]
     },
     "execution_count": 8,
     "metadata": {},
     "output_type": "execute_result"
    }
   ],
   "source": [
    "# Equals Comparison Operator\n",
    "number_1 = 1\n",
    "number_2 = 1\n",
    "number_1 == number_2"
   ]
  },
  {
   "cell_type": "code",
   "execution_count": 9,
   "id": "5188cefd",
   "metadata": {},
   "outputs": [
    {
     "data": {
      "text/plain": [
       "True"
      ]
     },
     "execution_count": 9,
     "metadata": {},
     "output_type": "execute_result"
    }
   ],
   "source": [
    "# Not equals Operator \n",
    "number_1 = 1\n",
    "number_2 = 2\n",
    "number_1 != number_2"
   ]
  },
  {
   "cell_type": "code",
   "execution_count": 10,
   "id": "fe5cfbd1",
   "metadata": {},
   "outputs": [
    {
     "data": {
      "text/plain": [
       "True"
      ]
     },
     "execution_count": 10,
     "metadata": {},
     "output_type": "execute_result"
    }
   ],
   "source": [
    "# Less than Operator \n",
    "number_1 = 1\n",
    "number_2 = 2\n",
    "number_1 < number_2"
   ]
  },
  {
   "cell_type": "code",
   "execution_count": 11,
   "id": "a5076a9b",
   "metadata": {},
   "outputs": [
    {
     "data": {
      "text/plain": [
       "False"
      ]
     },
     "execution_count": 11,
     "metadata": {},
     "output_type": "execute_result"
    }
   ],
   "source": [
    "# Greater than Operator \n",
    "number_1 = 1\n",
    "number_2 = 2\n",
    "number_1 > number_2"
   ]
  },
  {
   "cell_type": "code",
   "execution_count": 12,
   "id": "e64aa515",
   "metadata": {},
   "outputs": [
    {
     "data": {
      "text/plain": [
       "True"
      ]
     },
     "execution_count": 12,
     "metadata": {},
     "output_type": "execute_result"
    }
   ],
   "source": [
    "# Less than or Equals Operator  \n",
    "number_1 = 1\n",
    "number_2 = 2\n",
    "number_1 <= number_2"
   ]
  },
  {
   "cell_type": "code",
   "execution_count": 13,
   "id": "8fc9bd27",
   "metadata": {},
   "outputs": [
    {
     "data": {
      "text/plain": [
       "False"
      ]
     },
     "execution_count": 13,
     "metadata": {},
     "output_type": "execute_result"
    }
   ],
   "source": [
    "# Greater than or Equals Operator  \n",
    "number_1 = 1\n",
    "number_2 = 2\n",
    "number_1 >= number_2"
   ]
  },
  {
   "cell_type": "markdown",
   "id": "78d6c5b4",
   "metadata": {},
   "source": [
    "# The Print() function\n",
    "## Outputs information to the console"
   ]
  },
  {
   "cell_type": "code",
   "execution_count": 14,
   "id": "5dae187b",
   "metadata": {},
   "outputs": [
    {
     "name": "stdout",
     "output_type": "stream",
     "text": [
      "1\n"
     ]
    }
   ],
   "source": [
    "print(1)"
   ]
  },
  {
   "cell_type": "code",
   "execution_count": 15,
   "id": "993dd6b5",
   "metadata": {},
   "outputs": [
    {
     "name": "stdout",
     "output_type": "stream",
     "text": [
      "2\n"
     ]
    }
   ],
   "source": [
    "print(1 + 1)"
   ]
  },
  {
   "cell_type": "code",
   "execution_count": 16,
   "id": "f21adda9",
   "metadata": {},
   "outputs": [
    {
     "name": "stdout",
     "output_type": "stream",
     "text": [
      "Hello, World\n"
     ]
    }
   ],
   "source": [
    "print(\"Hello, World\")"
   ]
  },
  {
   "cell_type": "code",
   "execution_count": 17,
   "id": "80b3358c",
   "metadata": {},
   "outputs": [
    {
     "name": "stdout",
     "output_type": "stream",
     "text": [
      "Hello \n"
     ]
    }
   ],
   "source": [
    "my_variable = \"Hello \"\n",
    "print(my_variable)"
   ]
  },
  {
   "cell_type": "code",
   "execution_count": 18,
   "id": "c2962b5f",
   "metadata": {},
   "outputs": [
    {
     "name": "stdout",
     "output_type": "stream",
     "text": [
      "Hello World\n",
      "Hello  World\n"
     ]
    }
   ],
   "source": [
    "# Combining variables in a print function\n",
    "second_variable = \"World\"\n",
    "print(my_variable + second_variable)\n",
    "# Every comma within the print function is a space\n",
    "print(my_variable, second_variable)"
   ]
  },
  {
   "cell_type": "code",
   "execution_count": 19,
   "id": "3611d92d",
   "metadata": {},
   "outputs": [
    {
     "name": "stdout",
     "output_type": "stream",
     "text": [
      "Hello World\n",
      "Hello World\n"
     ]
    }
   ],
   "source": [
    "world = \"World\"\n",
    "# A mixture of direct declaration and variable assignment\n",
    "print(\"Hello\", world)\n",
    "# Usin f strings\n",
    "print(f\"Hello {world}\")"
   ]
  },
  {
   "cell_type": "markdown",
   "id": "41dff312",
   "metadata": {},
   "source": [
    "# If..else statments"
   ]
  },
  {
   "cell_type": "code",
   "execution_count": 22,
   "id": "84092541",
   "metadata": {},
   "outputs": [
    {
     "name": "stdout",
     "output_type": "stream",
     "text": [
      "A third Line\n"
     ]
    }
   ],
   "source": [
    "number = 6\n",
    "if number == 5: # Colon to end the expression\n",
    "    print(\"Hello World\")\n",
    "    print(\"Another Line\")\n",
    "print(\"A third Line\")"
   ]
  },
  {
   "cell_type": "code",
   "execution_count": 23,
   "id": "6fc9c387",
   "metadata": {},
   "outputs": [
    {
     "name": "stdout",
     "output_type": "stream",
     "text": [
      "Hello World\n",
      "Hello\n",
      "World\n",
      "Mouse\n"
     ]
    }
   ],
   "source": [
    "# Example of nested if statements\n",
    "\n",
    "number = 6\n",
    "second_number = 7\n",
    "if number == 6: # Don't forget the colon\n",
    "    print(\"Hello World\")\n",
    "    if second_number == 7:\n",
    "        print(\"Hello\")\n",
    "        if second_number > 1:\n",
    "            print(\"World\")\n",
    "        print(\"Mouse\")"
   ]
  },
  {
   "cell_type": "markdown",
   "id": "0d488dd7",
   "metadata": {},
   "source": [
    "# Exercise 1"
   ]
  },
  {
   "cell_type": "code",
   "execution_count": null,
   "id": "2a612edf",
   "metadata": {},
   "outputs": [],
   "source": []
  }
 ],
 "metadata": {
  "kernelspec": {
   "display_name": "Python 3 (ipykernel)",
   "language": "python",
   "name": "python3"
  },
  "language_info": {
   "codemirror_mode": {
    "name": "ipython",
    "version": 3
   },
   "file_extension": ".py",
   "mimetype": "text/x-python",
   "name": "python",
   "nbconvert_exporter": "python",
   "pygments_lexer": "ipython3",
   "version": "3.10.4"
  }
 },
 "nbformat": 4,
 "nbformat_minor": 5
}
