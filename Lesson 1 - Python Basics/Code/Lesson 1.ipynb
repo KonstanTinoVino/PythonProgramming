{
 "cells": [
  {
   "cell_type": "markdown",
   "id": "3d0757ef",
   "metadata": {},
   "source": [
    "# Header 1\n",
    "## Header 2\n",
    "### Header 3\n",
    "\n",
    "This is text\n",
    "\n",
    "## This is how you initialize a dash list\n",
    "- This is a element of a list\n",
    "\n",
    "## This is how you initialize a numbered list\n",
    "\n",
    "1. This is a numbered list\n",
    "1. This is a numbered list 2\n",
    "\n",
    "**This is bold**"
   ]
  },
  {
   "cell_type": "markdown",
   "id": "1db208ef",
   "metadata": {},
   "source": [
    "## This is a comment in Python"
   ]
  },
  {
   "cell_type": "code",
   "execution_count": null,
   "id": "839d870d",
   "metadata": {},
   "outputs": [],
   "source": [
    "# This a comment in python"
   ]
  },
  {
   "cell_type": "markdown",
   "id": "7a6b7adb",
   "metadata": {},
   "source": [
    "# 1. Basic Data Types"
   ]
  },
  {
   "cell_type": "code",
   "execution_count": 3,
   "id": "d5aa5679",
   "metadata": {},
   "outputs": [
    {
     "data": {
      "text/plain": [
       "False"
      ]
     },
     "execution_count": 3,
     "metadata": {},
     "output_type": "execute_result"
    }
   ],
   "source": [
    "17 # This is an integer\n",
    "17.5 # This is a double/flotation point\n",
    "\"ThiS is A StRing\" # This is a String\n",
    "'This is a String as well' # This is a String as well\n",
    "True # This is a boolean\n",
    "False # This is also a boolean"
   ]
  },
  {
   "cell_type": "markdown",
   "id": "3b0e6420",
   "metadata": {},
   "source": [
    "# 2 Basic Operations"
   ]
  },
  {
   "cell_type": "code",
   "execution_count": 4,
   "id": "4fa1525a",
   "metadata": {},
   "outputs": [
    {
     "data": {
      "text/plain": [
       "7"
      ]
     },
     "execution_count": 4,
     "metadata": {},
     "output_type": "execute_result"
    }
   ],
   "source": [
    "3 + 4 # Example of Summation"
   ]
  },
  {
   "cell_type": "code",
   "execution_count": 22,
   "id": "6ab700b2",
   "metadata": {},
   "outputs": [
    {
     "data": {
      "text/plain": [
       "0.7333333333333333"
      ]
     },
     "execution_count": 22,
     "metadata": {},
     "output_type": "execute_result"
    }
   ],
   "source": [
    "4 / 4 # Example of Division\n",
    "3 / 4 # This is also division"
   ]
  },
  {
   "cell_type": "code",
   "execution_count": 7,
   "id": "805b5cbe",
   "metadata": {},
   "outputs": [
    {
     "data": {
      "text/plain": [
       "12"
      ]
     },
     "execution_count": 7,
     "metadata": {},
     "output_type": "execute_result"
    }
   ],
   "source": [
    "3 * 4 # This is multiplication"
   ]
  },
  {
   "cell_type": "code",
   "execution_count": 10,
   "id": "6a51e59f",
   "metadata": {},
   "outputs": [
    {
     "data": {
      "text/plain": [
       "8"
      ]
     },
     "execution_count": 10,
     "metadata": {},
     "output_type": "execute_result"
    }
   ],
   "source": [
    "2**3 # Exponentiation/ to do power of"
   ]
  },
  {
   "cell_type": "code",
   "execution_count": 18,
   "id": "4733dba3",
   "metadata": {},
   "outputs": [
    {
     "data": {
      "text/plain": [
       "10"
      ]
     },
     "execution_count": 18,
     "metadata": {},
     "output_type": "execute_result"
    }
   ],
   "source": [
    "1000 % 22 # Example of modulos"
   ]
  },
  {
   "cell_type": "code",
   "execution_count": 20,
   "id": "4faa850e",
   "metadata": {
    "scrolled": true
   },
   "outputs": [
    {
     "data": {
      "text/plain": [
       "5"
      ]
     },
     "execution_count": 20,
     "metadata": {},
     "output_type": "execute_result"
    }
   ],
   "source": [
    "11 // 2 # Floor division"
   ]
  },
  {
   "cell_type": "code",
   "execution_count": 24,
   "id": "20981bc4",
   "metadata": {},
   "outputs": [
    {
     "data": {
      "text/plain": [
       "'AB'"
      ]
     },
     "execution_count": 24,
     "metadata": {},
     "output_type": "execute_result"
    }
   ],
   "source": [
    "\"A\" + \"B\""
   ]
  },
  {
   "cell_type": "code",
   "execution_count": 26,
   "id": "3bb3762f",
   "metadata": {},
   "outputs": [
    {
     "data": {
      "text/plain": [
       "'AAAAA'"
      ]
     },
     "execution_count": 26,
     "metadata": {},
     "output_type": "execute_result"
    }
   ],
   "source": [
    "\"A\" * 5"
   ]
  },
  {
   "cell_type": "markdown",
   "id": "d32a3f6e",
   "metadata": {},
   "source": [
    "# 3 These are variables\n",
    "\n",
    "## Variables must start with letters abd must be alphanumerica. But _ are allowed"
   ]
  },
  {
   "cell_type": "code",
   "execution_count": 31,
   "id": "c18b1f55",
   "metadata": {},
   "outputs": [],
   "source": [
    "# This how you initialize a variable\n",
    "variable = 1"
   ]
  },
  {
   "cell_type": "code",
   "execution_count": 33,
   "id": "7e2bcc88",
   "metadata": {},
   "outputs": [
    {
     "data": {
      "text/plain": [
       "1"
      ]
     },
     "execution_count": 33,
     "metadata": {},
     "output_type": "execute_result"
    }
   ],
   "source": [
    "# This is how you call a variable\n",
    "variable"
   ]
  },
  {
   "cell_type": "code",
   "execution_count": 44,
   "id": "8a4a2af6",
   "metadata": {},
   "outputs": [
    {
     "data": {
      "text/plain": [
       "2"
      ]
     },
     "execution_count": 44,
     "metadata": {},
     "output_type": "execute_result"
    }
   ],
   "source": [
    "# Using _ to split variable\n",
    "new_variable = 2\n",
    "new_variable"
   ]
  },
  {
   "cell_type": "code",
   "execution_count": 47,
   "id": "91ce6a6b",
   "metadata": {},
   "outputs": [
    {
     "data": {
      "text/plain": [
       "2"
      ]
     },
     "execution_count": 47,
     "metadata": {},
     "output_type": "execute_result"
    }
   ],
   "source": [
    "# Reasign Variable\n",
    "variable = 2\n",
    "variable"
   ]
  },
  {
   "cell_type": "code",
   "execution_count": 50,
   "id": "8e71da51",
   "metadata": {},
   "outputs": [
    {
     "data": {
      "text/plain": [
       "4"
      ]
     },
     "execution_count": 50,
     "metadata": {},
     "output_type": "execute_result"
    }
   ],
   "source": [
    "# add two previously assigned variables\n",
    "third_variable = variable + new_variable\n",
    "third_variable"
   ]
  },
  {
   "cell_type": "code",
   "execution_count": 54,
   "id": "2ea0f048",
   "metadata": {},
   "outputs": [],
   "source": [
    "# Changing data type of variable\n",
    "number_variable = 4\n",
    "string_variable = \"Hello\"\n",
    "number_variable = string_variable"
   ]
  },
  {
   "cell_type": "code",
   "execution_count": 56,
   "id": "e3d89b93",
   "metadata": {},
   "outputs": [
    {
     "ename": "TypeError",
     "evalue": "unsupported operand type(s) for +: 'int' and 'str'",
     "output_type": "error",
     "traceback": [
      "\u001b[1;31m---------------------------------------------------------------------------\u001b[0m",
      "\u001b[1;31mTypeError\u001b[0m                                 Traceback (most recent call last)",
      "Cell \u001b[1;32mIn [56], line 2\u001b[0m\n\u001b[0;32m      1\u001b[0m number_variable \u001b[38;5;241m=\u001b[39m \u001b[38;5;241m4\u001b[39m\n\u001b[1;32m----> 2\u001b[0m sum_variable \u001b[38;5;241m=\u001b[39m \u001b[43mnumber_variable\u001b[49m\u001b[43m \u001b[49m\u001b[38;5;241;43m+\u001b[39;49m\u001b[43m \u001b[49m\u001b[43mstring_variable\u001b[49m\n\u001b[0;32m      3\u001b[0m sum_variable\n",
      "\u001b[1;31mTypeError\u001b[0m: unsupported operand type(s) for +: 'int' and 'str'"
     ]
    }
   ],
   "source": [
    "number_variable = 4\n",
    "sum_variable = number_variable + string_variable\n",
    "sum_variable"
   ]
  },
  {
   "cell_type": "markdown",
   "id": "dc316078",
   "metadata": {},
   "source": [
    "# Comparison/Logical Operators"
   ]
  },
  {
   "cell_type": "code",
   "execution_count": 58,
   "id": "0dcbfb24",
   "metadata": {},
   "outputs": [
    {
     "data": {
      "text/plain": [
       "True"
      ]
     },
     "execution_count": 58,
     "metadata": {},
     "output_type": "execute_result"
    }
   ],
   "source": [
    "# Equals Comparison Operator\n",
    "number_1 = 1\n",
    "number_2 = 1\n",
    "number_1 == number_2"
   ]
  },
  {
   "cell_type": "code",
   "execution_count": 61,
   "id": "5188cefd",
   "metadata": {},
   "outputs": [
    {
     "data": {
      "text/plain": [
       "True"
      ]
     },
     "execution_count": 61,
     "metadata": {},
     "output_type": "execute_result"
    }
   ],
   "source": [
    "# Not equals Operator \n",
    "number_1 = 1\n",
    "number_2 = 2\n",
    "number_1 != number_2"
   ]
  },
  {
   "cell_type": "code",
   "execution_count": 62,
   "id": "fe5cfbd1",
   "metadata": {},
   "outputs": [
    {
     "data": {
      "text/plain": [
       "True"
      ]
     },
     "execution_count": 62,
     "metadata": {},
     "output_type": "execute_result"
    }
   ],
   "source": [
    "# Less than Operator \n",
    "number_1 = 1\n",
    "number_2 = 2\n",
    "number_1 < number_2"
   ]
  },
  {
   "cell_type": "code",
   "execution_count": 63,
   "id": "a5076a9b",
   "metadata": {},
   "outputs": [
    {
     "data": {
      "text/plain": [
       "False"
      ]
     },
     "execution_count": 63,
     "metadata": {},
     "output_type": "execute_result"
    }
   ],
   "source": [
    "# Greater than Operator \n",
    "number_1 = 1\n",
    "number_2 = 2\n",
    "number_1 > number_2"
   ]
  },
  {
   "cell_type": "code",
   "execution_count": 66,
   "id": "e64aa515",
   "metadata": {},
   "outputs": [
    {
     "data": {
      "text/plain": [
       "True"
      ]
     },
     "execution_count": 66,
     "metadata": {},
     "output_type": "execute_result"
    }
   ],
   "source": [
    "# Less than or Equals Operator  \n",
    "number_1 = 1\n",
    "number_2 = 2\n",
    "number_1 <= number_2"
   ]
  },
  {
   "cell_type": "code",
   "execution_count": 67,
   "id": "8fc9bd27",
   "metadata": {},
   "outputs": [
    {
     "data": {
      "text/plain": [
       "False"
      ]
     },
     "execution_count": 67,
     "metadata": {},
     "output_type": "execute_result"
    }
   ],
   "source": [
    "# Greater than or Equals Operator  \n",
    "number_1 = 1\n",
    "number_2 = 2\n",
    "number_1 >= number_2"
   ]
  },
  {
   "cell_type": "markdown",
   "id": "78d6c5b4",
   "metadata": {},
   "source": [
    "# The Print() function\n",
    "## Outputs information to the console"
   ]
  },
  {
   "cell_type": "code",
   "execution_count": 69,
   "id": "5dae187b",
   "metadata": {},
   "outputs": [
    {
     "name": "stdout",
     "output_type": "stream",
     "text": [
      "1\n"
     ]
    }
   ],
   "source": [
    "print(1)"
   ]
  },
  {
   "cell_type": "code",
   "execution_count": 70,
   "id": "993dd6b5",
   "metadata": {},
   "outputs": [
    {
     "name": "stdout",
     "output_type": "stream",
     "text": [
      "2\n"
     ]
    }
   ],
   "source": [
    "print(1 + 1)"
   ]
  },
  {
   "cell_type": "code",
   "execution_count": 74,
   "id": "f21adda9",
   "metadata": {},
   "outputs": [
    {
     "name": "stdout",
     "output_type": "stream",
     "text": [
      "Hello, World\n"
     ]
    }
   ],
   "source": [
    "print(\"Hello, World\")"
   ]
  },
  {
   "cell_type": "code",
   "execution_count": 79,
   "id": "80b3358c",
   "metadata": {},
   "outputs": [
    {
     "name": "stdout",
     "output_type": "stream",
     "text": [
      "Hello \n"
     ]
    }
   ],
   "source": [
    "my_variable = \"Hello \"\n",
    "print(my_variable)"
   ]
  },
  {
   "cell_type": "code",
   "execution_count": 82,
   "id": "c2962b5f",
   "metadata": {},
   "outputs": [
    {
     "name": "stdout",
     "output_type": "stream",
     "text": [
      "Hello World\n",
      "Hello  World\n"
     ]
    }
   ],
   "source": [
    "# Combining variables in a print function\n",
    "second_variable = \"World\"\n",
    "print(my_variable + second_variable)\n",
    "# Every come within the print function is a space\n",
    "print(my_variable, second_variable)"
   ]
  },
  {
   "cell_type": "code",
   "execution_count": 84,
   "id": "3611d92d",
   "metadata": {},
   "outputs": [
    {
     "name": "stdout",
     "output_type": "stream",
     "text": [
      "Hello World\n",
      "Hello World\n"
     ]
    }
   ],
   "source": [
    "world = \"World\"\n",
    "# A mixture of direct declaration and variable assignment\n",
    "print(\"Hello\", world)\n",
    "# Usin f strings\n",
    "print(f\"Hello {world}\")"
   ]
  },
  {
   "cell_type": "markdown",
   "id": "41dff312",
   "metadata": {},
   "source": [
    "# If..else statments"
   ]
  },
  {
   "cell_type": "code",
   "execution_count": 91,
   "id": "84092541",
   "metadata": {},
   "outputs": [
    {
     "name": "stdout",
     "output_type": "stream",
     "text": [
      "Hello World\n",
      "Another Line\n",
      "A third Line\n"
     ]
    }
   ],
   "source": [
    "number = 5\n",
    "if number == 5: # Colon to end the expression\n",
    "    print(\"Hello World\")\n",
    "    print(\"Another Line\")\n",
    "    print(\"A third Line\")\n",
    "else: # Colon to end expression\n",
    "    print(\"Goodbye World\")\n",
    "    print(\"Another Line\")"
   ]
  },
  {
   "cell_type": "code",
   "execution_count": 94,
   "id": "6fc9c387",
   "metadata": {},
   "outputs": [
    {
     "name": "stdout",
     "output_type": "stream",
     "text": [
      "Hello World\n",
      "Hello\n",
      "World\n",
      "Mouse\n"
     ]
    }
   ],
   "source": [
    "# Example of nested if statements\n",
    "\n",
    "number = 6\n",
    "second_number = 7\n",
    "if number == 6: # Don't forget the colon\n",
    "    print(\"Hello World\")\n",
    "    if second_number == 7:\n",
    "        print(\"Hello\")\n",
    "        if second_number > 1:\n",
    "            print(\"World\")\n",
    "        print(\"Mouse\")"
   ]
  },
  {
   "cell_type": "markdown",
   "id": "0d488dd7",
   "metadata": {},
   "source": [
    "# Exercise 1"
   ]
  },
  {
   "cell_type": "code",
   "execution_count": null,
   "id": "2a612edf",
   "metadata": {},
   "outputs": [],
   "source": []
  }
 ],
 "metadata": {
  "kernelspec": {
   "display_name": "Python 3 (ipykernel)",
   "language": "python",
   "name": "python3"
  },
  "language_info": {
   "codemirror_mode": {
    "name": "ipython",
    "version": 3
   },
   "file_extension": ".py",
   "mimetype": "text/x-python",
   "name": "python",
   "nbconvert_exporter": "python",
   "pygments_lexer": "ipython3",
   "version": "3.10.4"
  }
 },
 "nbformat": 4,
 "nbformat_minor": 5
}
