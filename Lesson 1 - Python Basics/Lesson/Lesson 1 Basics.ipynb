{
 "cells": [
  {
   "cell_type": "markdown",
   "id": "24336abb",
   "metadata": {},
   "source": [
    "# 1. Basic Data Types\n",
    "\n",
    "1. Text Type:\tstr\n",
    "2. Numeric Types:\tint, float, complex\n",
    "3. Boolean Type:\tbool\n",
    "4. None Type:\tNoneType"
   ]
  },
  {
   "cell_type": "markdown",
   "id": "85d403d4",
   "metadata": {},
   "source": [
    "## 2. Variable Assignment"
   ]
  },
  {
   "cell_type": "markdown",
   "id": "5cadf84b",
   "metadata": {},
   "source": [
    "## 3. Basic Operators & Expressions\n",
    "    - + -> summation\n",
    "    - - -> subtraction\n",
    "    - * -> multiplication\n",
    "    - / -> division\n",
    "    - ** -> exponentiation\n",
    "    - % -> modulos\n",
    "    - // -> Floor Division\n",
    "    \n",
    "## 4.  Comparison Operators\n",
    "    - == -> Equal to\n",
    "    - != -> Not equal to\n",
    "    - < -> Less than\n",
    "    - > -> Greater than\n",
    "    - <= -> Less than or equal to\n",
    "    - >= -> Greater than or euqal to"
   ]
  },
  {
   "cell_type": "markdown",
   "id": "a6a0fafc",
   "metadata": {},
   "source": [
    "## 5. If..else statments\n",
    "if expression:\n",
    "    do something\n",
    "else:\n",
    "    do something else\n",
    "    \n",
    "- indentation sensitive\n",
    "\n",
    "## 6. Logical Operators\n",
    "    - not -> not x -> True if X is False\n",
    "    - or -> true if either x or y is true\n",
    "    - and -> true if both "
   ]
  },
  {
   "cell_type": "markdown",
   "id": "4fb12263",
   "metadata": {},
   "source": [
    "# 7. Inbuilt functions\n",
    "\n",
    "## 8. print()\n",
    "    - prints something\n",
    "    - separate values by comma or + symbol\n",
    "    - use f strrings since more efficient.\n",
    "## 9. input()\n",
    "    - accepts input from user and assigns it to a variable"
   ]
  },
  {
   "cell_type": "markdown",
   "id": "d696ac30",
   "metadata": {},
   "source": [
    "## 10. Functions\n",
    "1. Deacleard through the \"def\" keyword\n",
    "2. Can acept parameters\n",
    "3. indentation sensitive\n",
    "4. Need to be called"
   ]
  }
 ],
 "metadata": {
  "kernelspec": {
   "display_name": "Python 3 (ipykernel)",
   "language": "python",
   "name": "python3"
  },
  "language_info": {
   "codemirror_mode": {
    "name": "ipython",
    "version": 3
   },
   "file_extension": ".py",
   "mimetype": "text/x-python",
   "name": "python",
   "nbconvert_exporter": "python",
   "pygments_lexer": "ipython3",
   "version": "3.10.4"
  }
 },
 "nbformat": 4,
 "nbformat_minor": 5
}
