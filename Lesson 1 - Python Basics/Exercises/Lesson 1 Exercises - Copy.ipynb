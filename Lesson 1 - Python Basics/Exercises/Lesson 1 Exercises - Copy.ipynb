{
 "cells": [
  {
   "cell_type": "markdown",
   "id": "d383c672",
   "metadata": {},
   "source": [
    "## 1. Ingredients Estimator\n",
    "\n",
    "### Create a function that will estimate the needed ingredients for a certain portion N for a recipy. (Choose any recipy that creates a certain quantity of a product online)\n",
    "1. Create a function $Name that takes in a parameter which specifies the number of servings you want to get.\n",
    "2. Based on the parameter value and on the ingreadients list print out for each ingridient the cuantity needed to satisfy the desired serving.\n",
    "3. Make a second parameter which will take in a string as an alergen (ex. gluten, dairy, ..etc.) and based on this value change the affected ingreadient to be alergy tolerant(assume equal proportions when substituting) (ex swap eggs for banana, milk for almond milk etc.)."
   ]
  },
  {
   "cell_type": "code",
   "execution_count": 1,
   "id": "d4c8c692",
   "metadata": {},
   "outputs": [
    {
     "name": "stdout",
     "output_type": "stream",
     "text": [
      "Brown Sugar 79.44444444444444\n",
      "White Sugar 72.22222222222221\n",
      "Vegan Butter 79.44444444444444\n"
     ]
    }
   ],
   "source": [
    "butter=227\n",
    "white_suger=200\n",
    "brown_sugar=220\n",
    "butter_1=butter/36\n",
    "white_suger1=white_suger/36\n",
    "brown_sugar1=brown_sugar/36\n",
    "butter_13=brown_sugar1*13\n",
    "white_suger13=white_suger1*13\n",
    "brown_sugar13=brown_sugar1*13\n",
    "print(\"Brown Sugar\", brown_sugar13)\n",
    "print(\"White Sugar\", white_suger13)\n",
    "\n",
    "alergen=True\n",
    "if alergen==True:\n",
    "    print(\"Vegan Butter\", butter_13)\n",
    "else:\n",
    "    print(\"Butter\", butter_13)\n"
   ]
  },
  {
   "cell_type": "markdown",
   "id": "66d19c85",
   "metadata": {},
   "source": [
    "## 2. Rejsekort Calculator\n",
    "\n",
    "### Rejsekort estimation info: https://www.rejseplanen.dk/bin/help.exe/mn?L=vs_rkfc&tpl=prisblad#bilag3\n",
    "\n",
    "### Create a function called my_rajsekort_calculator. The function will take into account 3 parameters. The number of days traveled, the average times per day traveled and the average price per single journey.\n",
    "1. Calculate how much it would cost a person to use rejsekort for this amount of journeys for the given price (assume no discount)\n",
    "2. Calculate how many discount points a person will accumulate for this amount of journeys. One discount point equals a journey multiplyed by 10\n",
    "3. Calculate the amount of points needed to reach maximum discount level (400 points)\n",
    "4. Calculate the number of journeys needed to reach the maximum discount level.\n",
    "5. Calculate the money he will need to reach the discount level.\n",
    "6. Add an extra variable called discount. Calculate all previous values after applying the discount percentage supplied."
   ]
  },
  {
   "cell_type": "code",
   "execution_count": null,
   "id": "86d745dd",
   "metadata": {},
   "outputs": [],
   "source": []
  },
  {
   "cell_type": "markdown",
   "id": "c3ace734",
   "metadata": {},
   "source": [
    "## 3. Circle Area Calculator\n",
    "1. Write a Python program which accepts the radius of a circle from the user and compute the area. Go to the editor\n",
    "    - Sample Output : r = 1.1 => Area = 3.8013271108436504"
   ]
  },
  {
   "cell_type": "code",
   "execution_count": null,
   "id": "be315a5d",
   "metadata": {},
   "outputs": [],
   "source": []
  },
  {
   "cell_type": "markdown",
   "id": "e219f8ea",
   "metadata": {},
   "source": [
    "## 4 Name Swap\n",
    "1. Write a Python program which accepts the user's first and last name and print them in reverse order with a space between them. Go to the editor"
   ]
  },
  {
   "cell_type": "code",
   "execution_count": null,
   "id": "00256400",
   "metadata": {},
   "outputs": [],
   "source": []
  },
  {
   "cell_type": "markdown",
   "id": "45ccabdd",
   "metadata": {},
   "source": [
    "## 5. Continuous Product Summation\n",
    "1. Write a Python program that accepts an integer (n) and computes the value of n+nn+nnn. Go to the editor\n"
   ]
  },
  {
   "cell_type": "code",
   "execution_count": null,
   "id": "00e7a4f5",
   "metadata": {},
   "outputs": [],
   "source": []
  },
  {
   "cell_type": "markdown",
   "id": "3c1bf3b7",
   "metadata": {},
   "source": [
    "## 6. Print string N number of times\n",
    "1. Make a function to print a given string N number of times. Where the string and N are passed through user input."
   ]
  },
  {
   "cell_type": "code",
   "execution_count": null,
   "id": "7929a907",
   "metadata": {},
   "outputs": [],
   "source": []
  },
  {
   "cell_type": "markdown",
   "id": "7304a39d",
   "metadata": {},
   "source": [
    "## 7. Name, Age, and Annual Income\n",
    "1. Write a program that declares the following:\n",
    "    - a String variable named name\n",
    "    - an int variable named age\n",
    "    - a double variable namedm annualPay\n",
    "2. Store your age, name, and desired annual income as literals in these variables. The program should display these values on the screen in a manner similar to the following:\n",
    "    - **My name is Joe Mahoney, my age is 26 and I hope to earn $100000.0 per year**."
   ]
  },
  {
   "cell_type": "code",
   "execution_count": null,
   "id": "23b09a01",
   "metadata": {},
   "outputs": [],
   "source": []
  },
  {
   "cell_type": "markdown",
   "id": "040345d3",
   "metadata": {},
   "source": [
    "## 8. Name and Initials\n",
    "1. Write a program that has the following String variables: firstName, middleName, and lastName.\n",
    "2. Initialize these with your first, middle, and last names. The program should also have the following char variables: firstInitial, middleInitial, and lastInitial.\n",
    "3. Storeyour first, middle, and last initials in these variables.\n",
    "4. The program should display the contents of these variables on the screen. "
   ]
  },
  {
   "cell_type": "code",
   "execution_count": null,
   "id": "56bae390",
   "metadata": {},
   "outputs": [],
   "source": []
  },
  {
   "cell_type": "markdown",
   "id": "6f20dfe9",
   "metadata": {},
   "source": [
    "## 9. Personal Information\n",
    "1. Write a program that displays the following information, each on a separate line:\n",
    "    - Your name\n",
    "    - Your address, with city, state, and ZIP\n",
    "    - Your telephone number\n",
    "    - Your college major\n",
    "2. Although these items should be displayed on separate output lines, use only a single println statement in your program."
   ]
  },
  {
   "cell_type": "code",
   "execution_count": null,
   "id": "188bf970",
   "metadata": {},
   "outputs": [],
   "source": []
  },
  {
   "cell_type": "markdown",
   "id": "6cf290bd",
   "metadata": {},
   "source": [
    "## 10. Star Pattern\n",
    "- Write a program that displays the following pattern:\n",
    "\t  $\n",
    "\t $$$\n",
    "\t$$$$$\n",
    "   $$$$$$$\n",
    "\t$$$$$\n",
    "\t $$$\n",
    "\t  $\n",
    "      \n",
    "### In case this is not displayed properly double click on the cell to see it"
   ]
  },
  {
   "cell_type": "code",
   "execution_count": null,
   "id": "2029f322",
   "metadata": {},
   "outputs": [],
   "source": []
  },
  {
   "cell_type": "markdown",
   "id": "07df6685",
   "metadata": {},
   "source": [
    "## 11. Cookie Calories\n",
    "1. A bag of cookies holds 40 cookies\n",
    "2. The calorie information on the bag claims that there are 10 servings in the bag and that a serving equals 300 calories.\n",
    "3. Write a program that lets the user enter the number of cookies he or she actually ate and then reports the number of total calories consumed."
   ]
  },
  {
   "cell_type": "code",
   "execution_count": null,
   "id": "be0e855d",
   "metadata": {},
   "outputs": [],
   "source": []
  },
  {
   "cell_type": "markdown",
   "id": "f5ad02c2",
   "metadata": {},
   "source": [
    "## 12. Sales Prediction\n",
    "1. The East Coast sales division of a company generates 65 percent of total sales. Based on that percentage, write a program that will predict how much the East Coast division will generate if the company has $8.3 million in sales this year.\n",
    "    - Hint: Use the value 0.65 to represent 65 percent."
   ]
  },
  {
   "cell_type": "code",
   "execution_count": null,
   "id": "705b4654",
   "metadata": {},
   "outputs": [],
   "source": []
  },
  {
   "cell_type": "markdown",
   "id": "5e89005a",
   "metadata": {},
   "source": [
    "## 13. Land Calculation\n",
    "1. One acre of land is equivalent to 43,560 square feet. Write a program that calculates the number of acres in a tract of land with 389,767 square feet.\n",
    "    - Hint: Divide the size of the tract of land by the size of an acre to get the number of acres."
   ]
  },
  {
   "cell_type": "code",
   "execution_count": null,
   "id": "e8c9afc1",
   "metadata": {},
   "outputs": [],
   "source": []
  },
  {
   "cell_type": "markdown",
   "id": "780d931d",
   "metadata": {},
   "source": [
    "## 14. Sales Tax\n",
    "1. Write a program that will ask the user to enter the amount of a purchase. \n",
    "    - The program should then compute the state and county sales tax.\n",
    "    - Assume the state sales tax is 5.5 percent and the county sales tax is 2 percent.\n",
    "    - The program should display the amount of the purchase, the state sales tax, the county sales tax, the total sales tax, and the total of the sale (which is the sum of the amount of purchase plus the total sales tax).\n",
    "    - **Hint:** Use the value 0.02 to represent 2 percent, and 0.055 to represent 5.5 percent"
   ]
  },
  {
   "cell_type": "code",
   "execution_count": null,
   "id": "5a62af68",
   "metadata": {},
   "outputs": [],
   "source": []
  },
  {
   "cell_type": "markdown",
   "id": "c1914889",
   "metadata": {},
   "source": [
    "## 15. Miles-per-Gallon\n",
    "1. A car’s miles-per-gallon (MPG) can be calculated with the following formula:\n",
    "    - MPG = Miles driven / Gallons of gas used\n",
    "2. Write a program that asks the user for the number of miles driven and the gallons of gas used. It should calculate the car’s MPG and display the result on the screen"
   ]
  },
  {
   "cell_type": "code",
   "execution_count": null,
   "id": "2c0470c4",
   "metadata": {},
   "outputs": [],
   "source": []
  },
  {
   "cell_type": "markdown",
   "id": "26b2f97b",
   "metadata": {},
   "source": [
    "## 16. Test Average\n",
    "1. Write a program that asks the user to enter three test scores.\n",
    "2. The program should display each test score, as well as the average of the scores."
   ]
  },
  {
   "cell_type": "code",
   "execution_count": null,
   "id": "5eac6fed",
   "metadata": {},
   "outputs": [],
   "source": []
  },
  {
   "cell_type": "markdown",
   "id": "28e5478b",
   "metadata": {},
   "source": [
    "## 17. Male and Female Percentages\n",
    "1. Write a program that asks the user for the number of males and the number of females registered in a class.\n",
    "    - The program should display the percentage of males and females in the class.\n",
    "    - Hint: Suppose there are 8 males and 12 females in a class. There are 20 students in the class. The percentage of males can be calculated as 8 ÷ 20 = 0.4, or 40%. The percentage of females can be calculated as 12 ÷ 20 = 0.6, or 60%."
   ]
  },
  {
   "cell_type": "code",
   "execution_count": null,
   "id": "021af63b",
   "metadata": {},
   "outputs": [],
   "source": []
  },
  {
   "cell_type": "markdown",
   "id": "80f42b99",
   "metadata": {},
   "source": [
    "## 18. Restaurant Bill\n",
    "1. Write a program that computes the tax and tip on a restaurant bill.\n",
    "    - Use a String variable to store the input. The program should display the following:\n",
    "    - The program should ask the user to enter the charge for the meal.\n",
    "    - The tax should be 7.5 percent of the meal charge.\n",
    "    - The tip should be 18 percent of the total after adding the tax.\n",
    "    - Display the meal charge, tax amount, tip amount, and total bill on the screen."
   ]
  },
  {
   "cell_type": "code",
   "execution_count": null,
   "id": "b6801c34",
   "metadata": {},
   "outputs": [],
   "source": []
  },
  {
   "cell_type": "markdown",
   "id": "2debdbaa",
   "metadata": {},
   "source": [
    "## 19. Stock Commission\n",
    "1. Kathryn bought 1000 shares of stock at a price of $25.50 per share. She must pay her stock broker a 2 percent commission for the transaction. Write a program that calculates and displays the following:\n",
    "    - The amount paid for the stock alone (without the commission)\n",
    "    - The amount of the commission\n",
    "    - The total amount paid (for the stock plus the commission)"
   ]
  },
  {
   "cell_type": "code",
   "execution_count": null,
   "id": "3f036f12",
   "metadata": {},
   "outputs": [],
   "source": []
  },
  {
   "cell_type": "markdown",
   "id": "3b734f7d",
   "metadata": {},
   "source": [
    "## 20. Energy Drink Consumption\n",
    "1. A soft-drink company recently surveyed 15,000 of its customers and found that approximately 18 percent of those surveyed purchase one of more energy drinks per week. Of those customers who purchase energy drinks, approximately 58 percent of them prefer citrusflavored energy drinks. Write a program that displays the following:\n",
    "    - The approximate number of customers in the survey who purchase one or more energy drinks per week\n",
    "    - The approximate number of customers in the survey who prefer citrus-flavored energy drinks"
   ]
  },
  {
   "cell_type": "code",
   "execution_count": null,
   "id": "6f13c811",
   "metadata": {},
   "outputs": [],
   "source": []
  },
  {
   "cell_type": "markdown",
   "id": "61e9eff9",
   "metadata": {},
   "source": [
    "## 21. Word Game\n",
    "1. Write a program that plays a word game with the user. The program should ask the user to enter the following:\n",
    "    - His or her name\n",
    "    - His or her age\n",
    "    - The name of a city\n",
    "    - The name of a college\n",
    "    - A profession\n",
    "    - A type of animal\n",
    "    - A pet’s name\n",
    "2. After the user has entered these items, the program should display the following story, inserting the user’s input into the appropriate locations\n",
    "    - There once was a person named NAME who lived in CITY. At the age of AGE,\n",
    "\tNAME went to college at COLLEGE. NAME graduated and went to work as a\n",
    "\tPROFESSION. Then, NAME adopted a(n) ANIMAL named PETNAME. They both lived\n",
    "\thappily ever after!"
   ]
  },
  {
   "cell_type": "code",
   "execution_count": null,
   "id": "a35e735f",
   "metadata": {},
   "outputs": [],
   "source": []
  },
  {
   "cell_type": "markdown",
   "id": "b5ca996c",
   "metadata": {},
   "source": [
    "## 22. Stock Transaction Program\n",
    "1. Last month Joe purchased some stock in Acme Software, Inc. Here are the details of the purchase:\n",
    "    - The number of shares that Joe purchased was 1,000.\n",
    "    - When Joe purchased the stock, he paid 32.87 per share.\n",
    "    - Joe paid his stockbroker a commission that amounted to 2 percent of the amount he paid for the stock.\n",
    "2. Two weeks later Joe sold the stock. Here are the details of the sale:\n",
    "    - The number of shares that Joe sold was 1,000.\n",
    "    - He sold the stock for $33.92 per share.\n",
    "    - He paid his stockbroker another commission that amounted to 2% of the amount he received for the stock.\n",
    "3. Write a program that displays the following information:\n",
    "    - The amount of money Joe paid for the stock.\n",
    "    - The amount of commission Joe paid his broker when he bought the stock.\n",
    "    - The amount that Joe sold the stock for.\n",
    "    - The amount of commission Joe paid his broker when he sold the stock.\n",
    "    - Display the amount of profit that Joe made after selling his stock and paying the two\n",
    "\tcommissions to his broker. (If the amount of profit that your program displays is a\n",
    "\tnegative number, then Joe lost money on the transaction.)"
   ]
  },
  {
   "cell_type": "code",
   "execution_count": null,
   "id": "252c3fb7",
   "metadata": {},
   "outputs": [],
   "source": []
  }
 ],
 "metadata": {
  "kernelspec": {
   "display_name": "Python 3 (ipykernel)",
   "language": "python",
   "name": "python3"
  },
  "language_info": {
   "codemirror_mode": {
    "name": "ipython",
    "version": 3
   },
   "file_extension": ".py",
   "mimetype": "text/x-python",
   "name": "python",
   "nbconvert_exporter": "python",
   "pygments_lexer": "ipython3",
   "version": "3.11.0"
  }
 },
 "nbformat": 4,
 "nbformat_minor": 5
}
