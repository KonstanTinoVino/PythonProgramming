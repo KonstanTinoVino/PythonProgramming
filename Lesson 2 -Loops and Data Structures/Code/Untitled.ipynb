{
 "cells": [
  {
   "cell_type": "markdown",
   "id": "3f613415",
   "metadata": {},
   "source": [
    "# Functions"
   ]
  },
  {
   "cell_type": "markdown",
   "id": "50211b0e",
   "metadata": {},
   "source": [
    "# Declaring Function \n",
    "- Functions are declared using the **def** keyword followed by **()**\n",
    "- It needs to end with semi-colon\n",
    "- Everything belonging to the function needs indented under the function"
   ]
  },
  {
   "cell_type": "code",
   "execution_count": 2,
   "id": "f38a2f13",
   "metadata": {},
   "outputs": [],
   "source": [
    "def my_function():\n",
    "    print(\"Hello\")"
   ]
  },
  {
   "cell_type": "markdown",
   "id": "07669845",
   "metadata": {},
   "source": [
    "## Calling Function \n",
    "- Functions need to be first declared\n",
    "- Subsequently they can be called"
   ]
  },
  {
   "cell_type": "code",
   "execution_count": 7,
   "id": "57c3ed33",
   "metadata": {},
   "outputs": [
    {
     "name": "stdout",
     "output_type": "stream",
     "text": [
      "Hello\n"
     ]
    }
   ],
   "source": [
    "my_function()"
   ]
  },
  {
   "cell_type": "markdown",
   "id": "ae8c9fcd",
   "metadata": {},
   "source": [
    "# Python Inbuilt Functions\n",
    "- Functions we know"
   ]
  },
  {
   "cell_type": "code",
   "execution_count": 8,
   "id": "2c1f0c66",
   "metadata": {},
   "outputs": [
    {
     "name": "stdout",
     "output_type": "stream",
     "text": [
      "Hello\n",
      "Say somethingHello\n"
     ]
    },
    {
     "data": {
      "text/plain": [
       "'Hello'"
      ]
     },
     "execution_count": 8,
     "metadata": {},
     "output_type": "execute_result"
    }
   ],
   "source": [
    "print(\"Hello\")\n",
    "input(\"Say something\")"
   ]
  },
  {
   "cell_type": "markdown",
   "id": "c23dc942",
   "metadata": {},
   "source": [
    "## Other usefull functions"
   ]
  },
  {
   "cell_type": "code",
   "execution_count": 10,
   "id": "2d0388ab",
   "metadata": {},
   "outputs": [
    {
     "data": {
      "text/plain": [
       "5"
      ]
     },
     "execution_count": 10,
     "metadata": {},
     "output_type": "execute_result"
    }
   ],
   "source": [
    "# len() -> returns the length of an object or an array\n",
    "len(\"Hello\")"
   ]
  },
  {
   "cell_type": "code",
   "execution_count": 11,
   "id": "7cfa5ae4",
   "metadata": {},
   "outputs": [
    {
     "data": {
      "text/plain": [
       "8"
      ]
     },
     "execution_count": 11,
     "metadata": {},
     "output_type": "execute_result"
    }
   ],
   "source": [
    "# pow() -> returns to the power of. Logically equivalent to **\n",
    "pow(2,3)"
   ]
  },
  {
   "cell_type": "code",
   "execution_count": 14,
   "id": "2b8b4e80",
   "metadata": {},
   "outputs": [
    {
     "data": {
      "text/plain": [
       "int"
      ]
     },
     "execution_count": 14,
     "metadata": {},
     "output_type": "execute_result"
    }
   ],
   "source": [
    "# type() -> returns the data type of an object\n",
    "type(\"Hello\")\n",
    "type(4)"
   ]
  },
  {
   "cell_type": "markdown",
   "id": "d51e9530",
   "metadata": {},
   "source": [
    "# Adding parameters to functions"
   ]
  },
  {
   "cell_type": "code",
   "execution_count": 17,
   "id": "51216a32",
   "metadata": {},
   "outputs": [
    {
     "name": "stdout",
     "output_type": "stream",
     "text": [
      "Something Hello There\n"
     ]
    }
   ],
   "source": [
    "# Parameters are passed in the parenteces of the function.\n",
    "def output_something(value): # <- In this case something is the parameter of the output_something function\n",
    "    print(\"Something\", value)\n",
    "\n",
    "output_something(\"Hello There\")"
   ]
  },
  {
   "cell_type": "code",
   "execution_count": 26,
   "id": "8ca36016",
   "metadata": {},
   "outputs": [
    {
     "name": "stdout",
     "output_type": "stream",
     "text": [
      "Konstantin Ivanov\n"
     ]
    }
   ],
   "source": [
    "name = \"Konstantin Ivanov\"\n",
    "\n",
    "def print_out_your_name(other_name):\n",
    "    print(other_name)\n",
    "\n",
    "print_out_your_name(name)"
   ]
  },
  {
   "cell_type": "code",
   "execution_count": 20,
   "id": "5d292d1f",
   "metadata": {},
   "outputs": [
    {
     "name": "stdout",
     "output_type": "stream",
     "text": [
      "Konstantin Ivanov\n"
     ]
    }
   ],
   "source": [
    "name = \"Konstantin Ivanov\"\n",
    "print(name)"
   ]
  },
  {
   "cell_type": "markdown",
   "id": "cf901be5",
   "metadata": {},
   "source": [
    "## A function can take in multiple parameters\n",
    "- parameters are separated by commas"
   ]
  },
  {
   "cell_type": "code",
   "execution_count": 28,
   "id": "6dcf32fe",
   "metadata": {},
   "outputs": [],
   "source": [
    "def add_two_values(value_1, value_2):\n",
    "    print(value_1 + value_2)"
   ]
  },
  {
   "cell_type": "code",
   "execution_count": 30,
   "id": "c1badf29",
   "metadata": {},
   "outputs": [
    {
     "name": "stdout",
     "output_type": "stream",
     "text": [
      "3\n"
     ]
    }
   ],
   "source": [
    "add_two_values(1, 2)"
   ]
  },
  {
   "cell_type": "markdown",
   "id": "76d39124",
   "metadata": {},
   "source": [
    "# You can return values from a function\n",
    "- Using the **return** keyword"
   ]
  },
  {
   "cell_type": "code",
   "execution_count": 31,
   "id": "d46af1b5",
   "metadata": {},
   "outputs": [],
   "source": [
    "def add_two_values(value_1, value_2):\n",
    "    the_sum = value_1 + value_2\n",
    "    return the_sum"
   ]
  },
  {
   "cell_type": "code",
   "execution_count": 33,
   "id": "0c4da22f",
   "metadata": {},
   "outputs": [
    {
     "name": "stdout",
     "output_type": "stream",
     "text": [
      "6\n"
     ]
    }
   ],
   "source": [
    "my_sum = add_two_values(2, 4)\n",
    "print(my_sum)"
   ]
  },
  {
   "cell_type": "markdown",
   "id": "54c73036",
   "metadata": {},
   "source": [
    "# You can return multiple values\n",
    "- The order of values returned will be as defined in the function, separated by commas"
   ]
  },
  {
   "cell_type": "code",
   "execution_count": 34,
   "id": "566ce417",
   "metadata": {},
   "outputs": [],
   "source": [
    "def add_two_values(value_1, value_2):\n",
    "    the_sum = value_1 + value_2\n",
    "    return the_sum, value_1, value_2"
   ]
  },
  {
   "cell_type": "code",
   "execution_count": 36,
   "id": "62a1731c",
   "metadata": {},
   "outputs": [
    {
     "name": "stdout",
     "output_type": "stream",
     "text": [
      "6\n",
      "2\n",
      "4\n"
     ]
    }
   ],
   "source": [
    "my_sum, a, b = add_two_values(2, 4)\n",
    "print(my_sum)\n",
    "print(a)\n",
    "print(b)"
   ]
  },
  {
   "cell_type": "markdown",
   "id": "41518595",
   "metadata": {},
   "source": [
    "# Default parameters\n",
    "- parametes can have a default value when none is specified"
   ]
  },
  {
   "cell_type": "code",
   "execution_count": 37,
   "id": "c382d8c9",
   "metadata": {},
   "outputs": [],
   "source": [
    "def print_out_your_name(name=\"Konstantin\"):\n",
    "    print(name)"
   ]
  },
  {
   "cell_type": "code",
   "execution_count": 39,
   "id": "fe5033e3",
   "metadata": {},
   "outputs": [
    {
     "name": "stdout",
     "output_type": "stream",
     "text": [
      "Konstantin\n"
     ]
    }
   ],
   "source": [
    "print_out_your_name()"
   ]
  },
  {
   "cell_type": "code",
   "execution_count": 41,
   "id": "6542c599",
   "metadata": {},
   "outputs": [
    {
     "name": "stdout",
     "output_type": "stream",
     "text": [
      "Maragareta\n"
     ]
    }
   ],
   "source": [
    "print_out_your_name(\"Maragareta\")"
   ]
  },
  {
   "cell_type": "markdown",
   "id": "88694d0d",
   "metadata": {},
   "source": [
    "### Write a function that accepts a value as the temperature in celsius and it prints out the same value but in Farenheit"
   ]
  }
 ],
 "metadata": {
  "kernelspec": {
   "display_name": "Python 3 (ipykernel)",
   "language": "python",
   "name": "python3"
  },
  "language_info": {
   "codemirror_mode": {
    "name": "ipython",
    "version": 3
   },
   "file_extension": ".py",
   "mimetype": "text/x-python",
   "name": "python",
   "nbconvert_exporter": "python",
   "pygments_lexer": "ipython3",
   "version": "3.10.4"
  }
 },
 "nbformat": 4,
 "nbformat_minor": 5
}
