{
 "cells": [
  {
   "cell_type": "markdown",
   "id": "0f5e85b9",
   "metadata": {},
   "source": [
    "## Jupyter Notebook Basics\n",
    "https://jupyter-notebook.readthedocs.io/en/stable/examples/Notebook/Notebook%20Basics.html\n",
    "\n",
    "## Jupyter Notebook Markdown Guide\n",
    "https://www.datacamp.com/tutorial/markdown-in-jupyter-notebook\n",
    "\n",
    "## Python Operatorts & Expressions Overview\n",
    "https://realpython.com/python-operators-expressions/\n",
    "\n",
    "## MAC/IOS Command Line Use Overview\n",
    "https://www.macworld.com/article/221277/command-line-navigating-files-folders-mac-terminal.html\n",
    "\n",
    "## List Operations \n",
    "https://www.educba.com/list-operations-in-python/"
   ]
  },
  {
   "cell_type": "markdown",
   "id": "96a587c9",
   "metadata": {},
   "source": [
    "# 1. Functions\n",
    "Functions serve the purpose of re-usable logic blocks. It is a set of operations that can be called through the function multiple times at multiple locations in the code to execute the exact same set of operations. Thus it saves time to call the function again in one line compared to writing the logical operations over again.\n",
    "- **NOTE: Almost always it is best practice to initialize functions at the very beggining of your code structure.**"
   ]
  },
  {
   "cell_type": "markdown",
   "id": "7294fe3e",
   "metadata": {},
   "source": [
    "### 1.1. Functions are defined using the **def** keyword.\n",
    "    - The name of the function can be whatever you like as long as it stats with a letter and only contains alpha-numeric charecters and \"_\".\n",
    "    - The function must end with an **()** (if no parameters were given) and **:**"
   ]
  },
  {
   "cell_type": "code",
   "execution_count": 4,
   "id": "e3c379dc",
   "metadata": {},
   "outputs": [],
   "source": [
    "def my_function():\n",
    "    pass # <- The pass keyword means 'do nothing.'"
   ]
  },
  {
   "cell_type": "markdown",
   "id": "1f8f53ac",
   "metadata": {},
   "source": [
    "### 1.2. There are numerous **built-in** python functions, some of which we have already looked at:\n",
    "    - print() -> Prints out a value.\n",
    "    - input() -> Receives user input from the keyboard.\n",
    "### 1.2.1. Other usefull functions are:\n",
    "    - len() -> returns the length of an object or array. Ex: the string \"Hi\" has a lentgth of len(\"Hi\") -> 1\n",
    "    - pow() -> equivalent to using the ** operator. Ex: pow(2,3) = 2**3 = 8\n",
    "    - list() -> creates a list\n",
    "    - set() -> creates a set.\n",
    "    - type() -> checks the type of the object passed. Ex type(\"Hello\") -> str or type(4) -> int"
   ]
  },
  {
   "cell_type": "markdown",
   "id": "e29ced94",
   "metadata": {},
   "source": [
    "### 1.3. Functions need to be **defined** before they can be **called.**. Example "
   ]
  },
  {
   "cell_type": "code",
   "execution_count": 6,
   "id": "89140815",
   "metadata": {},
   "outputs": [
    {
     "name": "stdout",
     "output_type": "stream",
     "text": [
      "Hello\n"
     ]
    }
   ],
   "source": [
    "def print_hello(): # <- Defining a function to print out \"Hello\"\n",
    "    print(\"Hello\")\n",
    "    \n",
    "print_hello() # <- Calling a function after definitin to actually print out a \"Hello\" on the scree"
   ]
  },
  {
   "cell_type": "markdown",
   "id": "cd34a823",
   "metadata": {},
   "source": [
    "### 1.4. Functions can take in **parameters** which can be used to pass outside-of-the-function information to the function so that it can perform some operation on them within the function. Ex:"
   ]
  },
  {
   "cell_type": "code",
   "execution_count": 21,
   "id": "6b04aa19",
   "metadata": {},
   "outputs": [
    {
     "name": "stdout",
     "output_type": "stream",
     "text": [
      "4\n",
      "Hello\n",
      "Hello again\n"
     ]
    }
   ],
   "source": [
    "def print_value(value):\n",
    "    print(value)\n",
    "    \n",
    "print_value(4)\n",
    "print_value(\"Hello\")\n",
    "print_value(value=\"Hello again\") # <- The parameter name can also be specified for more accuracy"
   ]
  },
  {
   "cell_type": "markdown",
   "id": "bdf36784",
   "metadata": {},
   "source": [
    "### 1.5. Functions can have as many parameters as defined."
   ]
  },
  {
   "cell_type": "code",
   "execution_count": 10,
   "id": "7eac510d",
   "metadata": {},
   "outputs": [
    {
     "name": "stdout",
     "output_type": "stream",
     "text": [
      "5\n"
     ]
    }
   ],
   "source": [
    "def summation(a,b):\n",
    "    print(a+b)\n",
    "\n",
    "summation(2,3)"
   ]
  },
  {
   "cell_type": "markdown",
   "id": "9cc260f0",
   "metadata": {},
   "source": [
    "### 1.6. Functions can be used to return values. This is achieved through the **return** keyword."
   ]
  },
  {
   "cell_type": "code",
   "execution_count": 14,
   "id": "c342116e",
   "metadata": {},
   "outputs": [
    {
     "name": "stdout",
     "output_type": "stream",
     "text": [
      "5\n"
     ]
    }
   ],
   "source": [
    "def summation_2(a,b):\n",
    "    return a + b\n",
    "\n",
    "my_variable = summation_2(2,3)\n",
    "print(my_variable)"
   ]
  },
  {
   "cell_type": "markdown",
   "id": "ddd79557",
   "metadata": {},
   "source": [
    "### 1.7. Functions can return multiple values. The values returned need to be separated by a (,) comma. The order of values returned is the one defined within the function"
   ]
  },
  {
   "cell_type": "code",
   "execution_count": 16,
   "id": "003a6f58",
   "metadata": {},
   "outputs": [
    {
     "name": "stdout",
     "output_type": "stream",
     "text": [
      "2\n",
      "3\n",
      "5\n"
     ]
    }
   ],
   "source": [
    "def summation_2(a,b):\n",
    "    the_sum = a + b\n",
    "    return  a, b, the_sum\n",
    "\n",
    "the_sum, a, b = summation_2(2,3)\n",
    "print(the_sum)\n",
    "print(a)\n",
    "print(b)"
   ]
  },
  {
   "cell_type": "markdown",
   "id": "e36c949d",
   "metadata": {},
   "source": [
    "### 1.8. Variables not defined within the function or passed as a parameter can be used within the function however, normally this is **bad practice**"
   ]
  },
  {
   "cell_type": "code",
   "execution_count": 20,
   "id": "1318b537",
   "metadata": {},
   "outputs": [
    {
     "data": {
      "text/plain": [
       "9"
      ]
     },
     "execution_count": 20,
     "metadata": {},
     "output_type": "execute_result"
    }
   ],
   "source": [
    "another_variable = 5\n",
    "\n",
    "def summation_3(a, b):\n",
    "    return a + b + another_variable\n",
    "\n",
    "summation_3(1,3)"
   ]
  },
  {
   "cell_type": "markdown",
   "id": "34ddbf75",
   "metadata": {},
   "source": [
    "### 1.9. Functions parameters can have default values. That is, values which will be automatically used if none other were passed."
   ]
  },
  {
   "cell_type": "code",
   "execution_count": 23,
   "id": "3b65c903",
   "metadata": {},
   "outputs": [
    {
     "name": "stdout",
     "output_type": "stream",
     "text": [
      "Hi There\n",
      "Hello World\n"
     ]
    }
   ],
   "source": [
    "def print_something(something=\"Hello World\"):\n",
    "    print(something)\n",
    "\n",
    "print_something(\"Hi There\") # <- Something is specified.\n",
    "\n",
    "print_something() # <- nothing is passed therefore the function takes the default \"Hello World\""
   ]
  },
  {
   "cell_type": "markdown",
   "id": "cbe13be3",
   "metadata": {},
   "source": [
    "### 1.10. Functions can also be **type cast**. That is the parameter's type can be required by the function."
   ]
  },
  {
   "cell_type": "code",
   "execution_count": 29,
   "id": "738bca74",
   "metadata": {},
   "outputs": [
    {
     "name": "stdout",
     "output_type": "stream",
     "text": [
      "1\n",
      "Hello\n"
     ]
    }
   ],
   "source": [
    "def print_only_strings(value: str):\n",
    "    print(value)\n",
    "\n",
    "def print_only_ints(value: int):\n",
    "    print(value)\n",
    "    \n",
    "print_only_ints(value=1)\n",
    "print_only_strings(\"Hello\")"
   ]
  },
  {
   "cell_type": "markdown",
   "id": "8c023022",
   "metadata": {},
   "source": [
    "# 2. Lists\n",
    "\n",
    "Lists are the primary array types of python. Lists, as the name suggests, represent a list of items. The items contained within a list can be of any data or object type including custom defined objects.\n",
    "- **Lists counting start from 0 to N !**\n",
    "    - That is the first element within a list is not located in position 1 but is at postion 0"
   ]
  },
  {
   "cell_type": "markdown",
   "id": "f41d24e0",
   "metadata": {},
   "source": [
    "### Lists can be initialized with the **list()** function or can be directly initialized with vallues using the **[]** operators"
   ]
  },
  {
   "cell_type": "code",
   "execution_count": 3,
   "id": "83b37ad5",
   "metadata": {},
   "outputs": [],
   "source": [
    "my_list = list()\n",
    "\n",
    "my_list_2 = []"
   ]
  },
  {
   "cell_type": "markdown",
   "id": "46558970",
   "metadata": {},
   "source": [
    "### When Lists are initialized with the **[]** operator, values can be added directly separated by comma **,**\n",
    "    - Lists can contain values from one datatype or even from multiple datatypes including functions!"
   ]
  },
  {
   "cell_type": "code",
   "execution_count": 22,
   "id": "99ead2b5",
   "metadata": {},
   "outputs": [
    {
     "name": "stdout",
     "output_type": "stream",
     "text": [
      "[4, 'String', True, 5.7, <function say_hello at 0x0000028949FC3E20>]\n"
     ]
    }
   ],
   "source": [
    "def say_hello():\n",
    "    print(\"Hello\")\n",
    "\n",
    "my_list = [4, \"String\", True, 5.7, say_hello]\n",
    "\n",
    "print(my_list) # <- Yes you can print lists though it becomes impractical to do it when you a thousand values "
   ]
  },
  {
   "cell_type": "markdown",
   "id": "1e94b300",
   "metadata": {},
   "source": [
    "### To access an element in the list you use the [] and the index of the element you want"
   ]
  },
  {
   "cell_type": "code",
   "execution_count": 25,
   "id": "7691545d",
   "metadata": {},
   "outputs": [
    {
     "name": "stdout",
     "output_type": "stream",
     "text": [
      "4\n",
      "True\n"
     ]
    }
   ],
   "source": [
    "my_list = [4, \"String\", True, 5.7, say_hello]\n",
    "\n",
    "print(my_list[0]) # <- Prints the first element of the list\n",
    "print(my_list[2]) # <- Prints the 3rd element of the list. !!!!REMEMBER: List counting starts from 0!!!!!!"
   ]
  },
  {
   "cell_type": "markdown",
   "id": "9568db30",
   "metadata": {},
   "source": [
    "## 2.1 List Functions\n",
    "\n",
    "These are some of the usefull list functions that you'll encounter"
   ]
  },
  {
   "cell_type": "markdown",
   "id": "0dd225d0",
   "metadata": {},
   "source": [
    "### 2.1.1 len() -> Applied to the list\n",
    "- Returns the length of the list"
   ]
  },
  {
   "cell_type": "code",
   "execution_count": 10,
   "id": "af2ba6c5",
   "metadata": {},
   "outputs": [
    {
     "data": {
      "text/plain": [
       "5"
      ]
     },
     "execution_count": 10,
     "metadata": {},
     "output_type": "execute_result"
    }
   ],
   "source": [
    "my_list = [4, \"String\", True, 5.7, say_hello]\n",
    "\n",
    "len(my_list)"
   ]
  },
  {
   "cell_type": "markdown",
   "id": "1072bfcc",
   "metadata": {},
   "source": [
    "### 2.1.2 append()\n",
    "- Adds a value to the end of the list"
   ]
  },
  {
   "cell_type": "code",
   "execution_count": 11,
   "id": "7e40bc9d",
   "metadata": {},
   "outputs": [
    {
     "name": "stdout",
     "output_type": "stream",
     "text": [
      "[4, 'String', True, 5.7, <function say_hello at 0x0000028949C0BD90>, 'Something']\n"
     ]
    }
   ],
   "source": [
    "my_list = [4, \"String\", True, 5.7, say_hello]\n",
    "\n",
    "my_list.append(\"Something\")\n",
    "\n",
    "print(my_list)"
   ]
  },
  {
   "cell_type": "markdown",
   "id": "25981e18",
   "metadata": {},
   "source": [
    "### 2.1.3 extend()\n",
    "- Simmilar to append, you can use extend to add multiple values to the end of the list. NOTE the values provided must be themselves in a list with the **[]** operators"
   ]
  },
  {
   "cell_type": "code",
   "execution_count": 12,
   "id": "21b5395b",
   "metadata": {},
   "outputs": [
    {
     "name": "stdout",
     "output_type": "stream",
     "text": [
      "[4, 'String', True, 5.7, <function say_hello at 0x0000028949C0BD90>, 'something', 2, False]\n"
     ]
    }
   ],
   "source": [
    "my_list = [4, \"String\", True, 5.7, say_hello]\n",
    "\n",
    "my_list.extend([\"something\", 2, False])\n",
    "\n",
    "print(my_list)"
   ]
  },
  {
   "cell_type": "markdown",
   "id": "e3e3e47d",
   "metadata": {},
   "source": [
    "### 2.1.4 insert()\n",
    "- Can be used to insert an element into a specific position within the list. NOTE the insert() function will insert an element at that index and the rest of the elements will be pushed one position to the left\n",
    "    - **NOTE** as stated before list countin starts at zero. Therefore in the example bellow the \"Insert\" value will be placed in the third position of the list because the count goes 0, 1, 2 and **not** 1, 2, 3"
   ]
  },
  {
   "cell_type": "code",
   "execution_count": 15,
   "id": "4c3c539a",
   "metadata": {},
   "outputs": [
    {
     "name": "stdout",
     "output_type": "stream",
     "text": [
      "[4, 'String', 'Insert', True, 5.7, <function say_hello at 0x0000028949C0BD90>]\n"
     ]
    }
   ],
   "source": [
    "my_list = [4, \"String\", True, 5.7, say_hello]\n",
    "\n",
    "my_list.insert(2, \"Insert\") # <- Inserting \"Insert\" at position 2\n",
    "\n",
    "print(my_list)"
   ]
  },
  {
   "cell_type": "markdown",
   "id": "e56fe11d",
   "metadata": {},
   "source": [
    "### 2.1.5 remove()\n",
    "- Removes an item from the list. In case of multiple items, it will only remove the first occurence that it finds"
   ]
  },
  {
   "cell_type": "code",
   "execution_count": 17,
   "id": "26c79e7c",
   "metadata": {},
   "outputs": [
    {
     "name": "stdout",
     "output_type": "stream",
     "text": [
      "['String', True, 5.7, <function say_hello at 0x0000028949C0BD90>]\n"
     ]
    }
   ],
   "source": [
    "my_list = [4, \"String\", True, 5.7, say_hello]\n",
    "\n",
    "my_list.remove(4)\n",
    "\n",
    "print(my_list)"
   ]
  },
  {
   "cell_type": "markdown",
   "id": "dcd206b3",
   "metadata": {},
   "source": [
    "### 2.1.6 pop()\n",
    "- Similar to remove, however pop() can be used to remove an elemnt at a specific posion"
   ]
  },
  {
   "cell_type": "code",
   "execution_count": 19,
   "id": "30025ac0",
   "metadata": {},
   "outputs": [
    {
     "name": "stdout",
     "output_type": "stream",
     "text": [
      "[4, 'String', True, 5.7]\n"
     ]
    }
   ],
   "source": [
    "my_list = [4, \"String\", True, 5.7, say_hello]\n",
    "\n",
    "my_list.pop(4) # <- Removing the function say_hello from the list \n",
    "\n",
    "print(my_list)"
   ]
  },
  {
   "cell_type": "markdown",
   "id": "abaf090b",
   "metadata": {},
   "source": [
    "### 2.1.7 slice\n",
    "- The slice function can be used to return a sub-list of the main list. It uses the **:** operator to define the range"
   ]
  },
  {
   "cell_type": "code",
   "execution_count": 21,
   "id": "3543b87e",
   "metadata": {},
   "outputs": [
    {
     "name": "stdout",
     "output_type": "stream",
     "text": [
      "[4, 'String', True, 5.7]\n",
      "[True, 5.7, <function say_hello at 0x0000028949C0BD90>]\n",
      "[True, 5.7]\n",
      "[4, 'String', True, 5.7, <function say_hello at 0x0000028949C0BD90>]\n"
     ]
    }
   ],
   "source": [
    "my_list = [4, \"String\", True, 5.7, say_hello]\n",
    "\n",
    "print(my_list[:4])  # prints from beginning to end index\n",
    "print(my_list[2:])  # prints from start index to end of list\n",
    "print(my_list[2:4]) # prints from start index to end index\n",
    "print(my_list[:])   # prints from beginning to end of list. basically equal to just calling print(my_list)"
   ]
  },
  {
   "cell_type": "markdown",
   "id": "6b777735",
   "metadata": {},
   "source": [
    "### 2.1.8 reverse()\n",
    "- Reverses the order of elements in the list "
   ]
  },
  {
   "cell_type": "code",
   "execution_count": 28,
   "id": "a0171460",
   "metadata": {},
   "outputs": [
    {
     "name": "stdout",
     "output_type": "stream",
     "text": [
      "[<function say_hello at 0x0000028949FC3E20>, 5.7, True, 'String', 4]\n",
      "[<function say_hello at 0x0000028949FC3E20>, 5.7, True, 'String', 4]\n"
     ]
    }
   ],
   "source": [
    "my_list = [4, \"String\", True, 5.7, say_hello]\n",
    "\n",
    "my_list.reverse()\n",
    "\n",
    "print(my_list)\n",
    "\n",
    "# NOTE same can be achieved with the slice operator as shown below\n",
    "\n",
    "my_list = [4, \"String\", True, 5.7, say_hello]\n",
    "\n",
    "print(my_list[::-1]) "
   ]
  },
  {
   "cell_type": "markdown",
   "id": "9db87f57",
   "metadata": {},
   "source": [
    "### 2.1.9  min() & max()\n",
    "- Return the smallest and the largest value in a list\n",
    "    - Works only on numeric lists"
   ]
  },
  {
   "cell_type": "code",
   "execution_count": 33,
   "id": "58dc4b82",
   "metadata": {},
   "outputs": [
    {
     "name": "stdout",
     "output_type": "stream",
     "text": [
      "Smalles Value: 2\n",
      "Largest Value: 11\n"
     ]
    }
   ],
   "source": [
    "my_list = [4, 2, 5, 7, 11]\n",
    "\n",
    "print(\"Smalles Value:\", min(my_list))\n",
    "\n",
    "print(\"Largest Value:\", max(my_list))"
   ]
  },
  {
   "cell_type": "markdown",
   "id": "9897650e",
   "metadata": {},
   "source": [
    "### 2.1.10 count()\n",
    "- Counts the number of occurences of a certain element in a list"
   ]
  },
  {
   "cell_type": "code",
   "execution_count": 35,
   "id": "bfb9c201",
   "metadata": {},
   "outputs": [
    {
     "name": "stdout",
     "output_type": "stream",
     "text": [
      "Number of 4s: 5\n"
     ]
    }
   ],
   "source": [
    "my_list = [4, 2, 5, 7, 11, 4, 4, 4, 4]\n",
    "\n",
    "print(\"Number of 4s:\", my_list.count(4))"
   ]
  },
  {
   "cell_type": "markdown",
   "id": "ec854c0b",
   "metadata": {},
   "source": [
    "### 2.1.11 concatenate\n",
    "- Combines two lists. "
   ]
  },
  {
   "cell_type": "code",
   "execution_count": 36,
   "id": "894ee7c0",
   "metadata": {},
   "outputs": [
    {
     "name": "stdout",
     "output_type": "stream",
     "text": [
      "[4, 2, 5, 7, 11, 4, 4, 4, 4, 1, 2, 3]\n"
     ]
    }
   ],
   "source": [
    "my_list = [4, 2, 5, 7, 11, 4, 4, 4, 4]\n",
    "other_list = [1, 2, 3]\n",
    "\n",
    "combined_list = my_list + other_list\n",
    "\n",
    "print(combined_list)"
   ]
  },
  {
   "cell_type": "markdown",
   "id": "81164aa8",
   "metadata": {},
   "source": [
    "### 2.1.12 multiply\n",
    "- Multiplies the contents of a list"
   ]
  },
  {
   "cell_type": "code",
   "execution_count": 37,
   "id": "1cc09069",
   "metadata": {},
   "outputs": [
    {
     "name": "stdout",
     "output_type": "stream",
     "text": [
      "[4, 2, 5, 7, 11, 4, 4, 4, 4, 4, 2, 5, 7, 11, 4, 4, 4, 4]\n"
     ]
    }
   ],
   "source": [
    "my_list = [4, 2, 5, 7, 11, 4, 4, 4, 4]\n",
    "\n",
    "doubled_list = my_list*2\n",
    "print(doubled_list)"
   ]
  },
  {
   "cell_type": "markdown",
   "id": "d9a27b1e",
   "metadata": {},
   "source": [
    "### 2.1.13 index()\n",
    "-  Returns the index of a given element in the list. Returns only the index of the first occurence"
   ]
  },
  {
   "cell_type": "code",
   "execution_count": 42,
   "id": "6249bd3e",
   "metadata": {},
   "outputs": [
    {
     "name": "stdout",
     "output_type": "stream",
     "text": [
      "1\n",
      "5\n"
     ]
    }
   ],
   "source": [
    "my_list = [4, 2, 5, 7, 11, 4, 4, 4, 4]\n",
    "\n",
    "print(my_list.index(2))\n",
    "\n",
    "# Can also be specified an range to search within\n",
    "\n",
    "print(my_list.index(4, 1, 7)) # <- Look for the value \"4\" between index 1 and 7"
   ]
  },
  {
   "cell_type": "markdown",
   "id": "348cc1c5",
   "metadata": {},
   "source": [
    "### 2.1.14 sort()\n",
    "- Sorts the contents of a list. Can only be performed on lists of a similar type"
   ]
  },
  {
   "cell_type": "code",
   "execution_count": 45,
   "id": "adf8d490",
   "metadata": {},
   "outputs": [
    {
     "name": "stdout",
     "output_type": "stream",
     "text": [
      "[2, 4, 4, 4, 4, 4, 5, 7, 11]\n"
     ]
    }
   ],
   "source": [
    "my_list = [4, 2, 5, 7, 11, 4, 4, 4, 4]\n",
    "\n",
    "my_list.sort() # <- Note sort is an inplace operation. You need to call the list again to see it sorted. If you print this it\n",
    "# will returns None\n",
    "\n",
    "print(my_list)"
   ]
  },
  {
   "cell_type": "markdown",
   "id": "134565e6",
   "metadata": {},
   "source": [
    "### 2.1.15  clear()\n",
    "- Clears the contents of the list"
   ]
  },
  {
   "cell_type": "code",
   "execution_count": 47,
   "id": "5814104e",
   "metadata": {},
   "outputs": [
    {
     "name": "stdout",
     "output_type": "stream",
     "text": [
      "[]\n"
     ]
    }
   ],
   "source": [
    "my_list = [4, 2, 5, 7, 11, 4, 4, 4, 4]\n",
    "\n",
    "my_list.clear() # <- same as above.\n",
    "\n",
    "print(my_list)"
   ]
  },
  {
   "cell_type": "markdown",
   "id": "de9aa9ec",
   "metadata": {},
   "source": [
    "# 3 Loops\n",
    "- Loops are an esential part of programming and alow for the execution of operation on multiple elements in a rapid automatic order. They are one of the core elements of programming."
   ]
  },
  {
   "cell_type": "code",
   "execution_count": null,
   "id": "130bde83",
   "metadata": {},
   "outputs": [],
   "source": []
  },
  {
   "cell_type": "markdown",
   "id": "d15324c8",
   "metadata": {},
   "source": [
    "# 4 List Comprehension\n",
    "List comprehension is a relatively new feature in python an allows the initialization of a list in a single line "
   ]
  },
  {
   "cell_type": "code",
   "execution_count": null,
   "id": "63d25251",
   "metadata": {},
   "outputs": [],
   "source": []
  }
 ],
 "metadata": {
  "kernelspec": {
   "display_name": "Python 3 (ipykernel)",
   "language": "python",
   "name": "python3"
  },
  "language_info": {
   "codemirror_mode": {
    "name": "ipython",
    "version": 3
   },
   "file_extension": ".py",
   "mimetype": "text/x-python",
   "name": "python",
   "nbconvert_exporter": "python",
   "pygments_lexer": "ipython3",
   "version": "3.10.4"
  }
 },
 "nbformat": 4,
 "nbformat_minor": 5
}
